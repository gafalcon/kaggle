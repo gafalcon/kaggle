{
 "cells": [
  {
   "cell_type": "code",
   "execution_count": 13,
   "metadata": {
    "_cell_guid": "b1076dfc-b9ad-4769-8c92-a6c4dae69d19",
    "_uuid": "8f2839f25d086af736a60e9eeb907d3b93b6e0e5"
   },
   "outputs": [
    {
     "name": "stdout",
     "output_type": "stream",
     "text": [
      "['.ipynb_checkpoints', 'forest_eda_rf.ipynb', 'test.csv', 'train.csv']\n"
     ]
    }
   ],
   "source": [
    "# This Python 3 environment comes with many helpful analytics libraries installed\n",
    "# It is defined by the kaggle/python docker image: https://github.com/kaggle/docker-python\n",
    "# For example, here's several helpful packages to load in \n",
    "\n",
    "import numpy as np # linear algebra\n",
    "import pandas as pd # data processing, CSV file I/O (e.g. pd.read_csv)\n",
    "import matplotlib.pyplot as plt\n",
    "import seaborn as sns\n",
    "from sklearn.metrics import confusion_matrix, accuracy_score\n",
    "from sklearn.ensemble import RandomForestClassifier\n",
    "from sklearn.model_selection import train_test_split\n",
    "import scipy\n",
    "# Input data files are available in the \"../input/\" directory.\n",
    "# For example, running this (by clicking run or pressing Shift+Enter) will list the files in the input directory\n",
    "\n",
    "import os\n",
    "print(os.listdir(\".\"))\n",
    "PATH = \".\"\n",
    "# Any results you write to the current directory are saved as output."
   ]
  },
  {
   "cell_type": "code",
   "execution_count": 14,
   "metadata": {
    "_cell_guid": "79c7e3d0-c299-4dcb-8224-4455121ee9b0",
    "_uuid": "d629ff2d2480ee46fbb7e2d37f6b5fab8052498a"
   },
   "outputs": [],
   "source": [
    "df = pd.read_csv(f\"{PATH}/train.csv\")"
   ]
  },
  {
   "cell_type": "code",
   "execution_count": 15,
   "metadata": {
    "_uuid": "675b1c3e9d78251fdc550dfb311838341f47f4a0"
   },
   "outputs": [
    {
     "data": {
      "text/html": [
       "<div>\n",
       "<style scoped>\n",
       "    .dataframe tbody tr th:only-of-type {\n",
       "        vertical-align: middle;\n",
       "    }\n",
       "\n",
       "    .dataframe tbody tr th {\n",
       "        vertical-align: top;\n",
       "    }\n",
       "\n",
       "    .dataframe thead th {\n",
       "        text-align: right;\n",
       "    }\n",
       "</style>\n",
       "<table border=\"1\" class=\"dataframe\">\n",
       "  <thead>\n",
       "    <tr style=\"text-align: right;\">\n",
       "      <th></th>\n",
       "      <th>count</th>\n",
       "      <th>mean</th>\n",
       "      <th>std</th>\n",
       "      <th>min</th>\n",
       "      <th>25%</th>\n",
       "      <th>50%</th>\n",
       "      <th>75%</th>\n",
       "      <th>max</th>\n",
       "    </tr>\n",
       "  </thead>\n",
       "  <tbody>\n",
       "    <tr>\n",
       "      <th>Id</th>\n",
       "      <td>15120.0</td>\n",
       "      <td>7560.500000</td>\n",
       "      <td>4364.912370</td>\n",
       "      <td>1.0</td>\n",
       "      <td>3780.75</td>\n",
       "      <td>7560.5</td>\n",
       "      <td>11340.25</td>\n",
       "      <td>15120.0</td>\n",
       "    </tr>\n",
       "    <tr>\n",
       "      <th>Elevation</th>\n",
       "      <td>15120.0</td>\n",
       "      <td>2749.322553</td>\n",
       "      <td>417.678187</td>\n",
       "      <td>1863.0</td>\n",
       "      <td>2376.00</td>\n",
       "      <td>2752.0</td>\n",
       "      <td>3104.00</td>\n",
       "      <td>3849.0</td>\n",
       "    </tr>\n",
       "    <tr>\n",
       "      <th>Aspect</th>\n",
       "      <td>15120.0</td>\n",
       "      <td>156.676653</td>\n",
       "      <td>110.085801</td>\n",
       "      <td>0.0</td>\n",
       "      <td>65.00</td>\n",
       "      <td>126.0</td>\n",
       "      <td>261.00</td>\n",
       "      <td>360.0</td>\n",
       "    </tr>\n",
       "    <tr>\n",
       "      <th>Slope</th>\n",
       "      <td>15120.0</td>\n",
       "      <td>16.501587</td>\n",
       "      <td>8.453927</td>\n",
       "      <td>0.0</td>\n",
       "      <td>10.00</td>\n",
       "      <td>15.0</td>\n",
       "      <td>22.00</td>\n",
       "      <td>52.0</td>\n",
       "    </tr>\n",
       "    <tr>\n",
       "      <th>Horizontal_Distance_To_Hydrology</th>\n",
       "      <td>15120.0</td>\n",
       "      <td>227.195701</td>\n",
       "      <td>210.075296</td>\n",
       "      <td>0.0</td>\n",
       "      <td>67.00</td>\n",
       "      <td>180.0</td>\n",
       "      <td>330.00</td>\n",
       "      <td>1343.0</td>\n",
       "    </tr>\n",
       "    <tr>\n",
       "      <th>Vertical_Distance_To_Hydrology</th>\n",
       "      <td>15120.0</td>\n",
       "      <td>51.076521</td>\n",
       "      <td>61.239406</td>\n",
       "      <td>-146.0</td>\n",
       "      <td>5.00</td>\n",
       "      <td>32.0</td>\n",
       "      <td>79.00</td>\n",
       "      <td>554.0</td>\n",
       "    </tr>\n",
       "    <tr>\n",
       "      <th>Horizontal_Distance_To_Roadways</th>\n",
       "      <td>15120.0</td>\n",
       "      <td>1714.023214</td>\n",
       "      <td>1325.066358</td>\n",
       "      <td>0.0</td>\n",
       "      <td>764.00</td>\n",
       "      <td>1316.0</td>\n",
       "      <td>2270.00</td>\n",
       "      <td>6890.0</td>\n",
       "    </tr>\n",
       "    <tr>\n",
       "      <th>Hillshade_9am</th>\n",
       "      <td>15120.0</td>\n",
       "      <td>212.704299</td>\n",
       "      <td>30.561287</td>\n",
       "      <td>0.0</td>\n",
       "      <td>196.00</td>\n",
       "      <td>220.0</td>\n",
       "      <td>235.00</td>\n",
       "      <td>254.0</td>\n",
       "    </tr>\n",
       "    <tr>\n",
       "      <th>Hillshade_Noon</th>\n",
       "      <td>15120.0</td>\n",
       "      <td>218.965608</td>\n",
       "      <td>22.801966</td>\n",
       "      <td>99.0</td>\n",
       "      <td>207.00</td>\n",
       "      <td>223.0</td>\n",
       "      <td>235.00</td>\n",
       "      <td>254.0</td>\n",
       "    </tr>\n",
       "    <tr>\n",
       "      <th>Hillshade_3pm</th>\n",
       "      <td>15120.0</td>\n",
       "      <td>135.091997</td>\n",
       "      <td>45.895189</td>\n",
       "      <td>0.0</td>\n",
       "      <td>106.00</td>\n",
       "      <td>138.0</td>\n",
       "      <td>167.00</td>\n",
       "      <td>248.0</td>\n",
       "    </tr>\n",
       "    <tr>\n",
       "      <th>Horizontal_Distance_To_Fire_Points</th>\n",
       "      <td>15120.0</td>\n",
       "      <td>1511.147288</td>\n",
       "      <td>1099.936493</td>\n",
       "      <td>0.0</td>\n",
       "      <td>730.00</td>\n",
       "      <td>1256.0</td>\n",
       "      <td>1988.25</td>\n",
       "      <td>6993.0</td>\n",
       "    </tr>\n",
       "    <tr>\n",
       "      <th>Wilderness_Area1</th>\n",
       "      <td>15120.0</td>\n",
       "      <td>0.237897</td>\n",
       "      <td>0.425810</td>\n",
       "      <td>0.0</td>\n",
       "      <td>0.00</td>\n",
       "      <td>0.0</td>\n",
       "      <td>0.00</td>\n",
       "      <td>1.0</td>\n",
       "    </tr>\n",
       "    <tr>\n",
       "      <th>Wilderness_Area2</th>\n",
       "      <td>15120.0</td>\n",
       "      <td>0.033003</td>\n",
       "      <td>0.178649</td>\n",
       "      <td>0.0</td>\n",
       "      <td>0.00</td>\n",
       "      <td>0.0</td>\n",
       "      <td>0.00</td>\n",
       "      <td>1.0</td>\n",
       "    </tr>\n",
       "    <tr>\n",
       "      <th>Wilderness_Area3</th>\n",
       "      <td>15120.0</td>\n",
       "      <td>0.419907</td>\n",
       "      <td>0.493560</td>\n",
       "      <td>0.0</td>\n",
       "      <td>0.00</td>\n",
       "      <td>0.0</td>\n",
       "      <td>1.00</td>\n",
       "      <td>1.0</td>\n",
       "    </tr>\n",
       "    <tr>\n",
       "      <th>Wilderness_Area4</th>\n",
       "      <td>15120.0</td>\n",
       "      <td>0.309193</td>\n",
       "      <td>0.462176</td>\n",
       "      <td>0.0</td>\n",
       "      <td>0.00</td>\n",
       "      <td>0.0</td>\n",
       "      <td>1.00</td>\n",
       "      <td>1.0</td>\n",
       "    </tr>\n",
       "    <tr>\n",
       "      <th>Soil_Type1</th>\n",
       "      <td>15120.0</td>\n",
       "      <td>0.023479</td>\n",
       "      <td>0.151424</td>\n",
       "      <td>0.0</td>\n",
       "      <td>0.00</td>\n",
       "      <td>0.0</td>\n",
       "      <td>0.00</td>\n",
       "      <td>1.0</td>\n",
       "    </tr>\n",
       "    <tr>\n",
       "      <th>Soil_Type2</th>\n",
       "      <td>15120.0</td>\n",
       "      <td>0.041204</td>\n",
       "      <td>0.198768</td>\n",
       "      <td>0.0</td>\n",
       "      <td>0.00</td>\n",
       "      <td>0.0</td>\n",
       "      <td>0.00</td>\n",
       "      <td>1.0</td>\n",
       "    </tr>\n",
       "    <tr>\n",
       "      <th>Soil_Type3</th>\n",
       "      <td>15120.0</td>\n",
       "      <td>0.063624</td>\n",
       "      <td>0.244091</td>\n",
       "      <td>0.0</td>\n",
       "      <td>0.00</td>\n",
       "      <td>0.0</td>\n",
       "      <td>0.00</td>\n",
       "      <td>1.0</td>\n",
       "    </tr>\n",
       "    <tr>\n",
       "      <th>Soil_Type4</th>\n",
       "      <td>15120.0</td>\n",
       "      <td>0.055754</td>\n",
       "      <td>0.229454</td>\n",
       "      <td>0.0</td>\n",
       "      <td>0.00</td>\n",
       "      <td>0.0</td>\n",
       "      <td>0.00</td>\n",
       "      <td>1.0</td>\n",
       "    </tr>\n",
       "    <tr>\n",
       "      <th>Soil_Type5</th>\n",
       "      <td>15120.0</td>\n",
       "      <td>0.010913</td>\n",
       "      <td>0.103896</td>\n",
       "      <td>0.0</td>\n",
       "      <td>0.00</td>\n",
       "      <td>0.0</td>\n",
       "      <td>0.00</td>\n",
       "      <td>1.0</td>\n",
       "    </tr>\n",
       "    <tr>\n",
       "      <th>Soil_Type6</th>\n",
       "      <td>15120.0</td>\n",
       "      <td>0.042989</td>\n",
       "      <td>0.202840</td>\n",
       "      <td>0.0</td>\n",
       "      <td>0.00</td>\n",
       "      <td>0.0</td>\n",
       "      <td>0.00</td>\n",
       "      <td>1.0</td>\n",
       "    </tr>\n",
       "    <tr>\n",
       "      <th>Soil_Type7</th>\n",
       "      <td>15120.0</td>\n",
       "      <td>0.000000</td>\n",
       "      <td>0.000000</td>\n",
       "      <td>0.0</td>\n",
       "      <td>0.00</td>\n",
       "      <td>0.0</td>\n",
       "      <td>0.00</td>\n",
       "      <td>0.0</td>\n",
       "    </tr>\n",
       "    <tr>\n",
       "      <th>Soil_Type8</th>\n",
       "      <td>15120.0</td>\n",
       "      <td>0.000066</td>\n",
       "      <td>0.008133</td>\n",
       "      <td>0.0</td>\n",
       "      <td>0.00</td>\n",
       "      <td>0.0</td>\n",
       "      <td>0.00</td>\n",
       "      <td>1.0</td>\n",
       "    </tr>\n",
       "    <tr>\n",
       "      <th>Soil_Type9</th>\n",
       "      <td>15120.0</td>\n",
       "      <td>0.000661</td>\n",
       "      <td>0.025710</td>\n",
       "      <td>0.0</td>\n",
       "      <td>0.00</td>\n",
       "      <td>0.0</td>\n",
       "      <td>0.00</td>\n",
       "      <td>1.0</td>\n",
       "    </tr>\n",
       "    <tr>\n",
       "      <th>Soil_Type10</th>\n",
       "      <td>15120.0</td>\n",
       "      <td>0.141667</td>\n",
       "      <td>0.348719</td>\n",
       "      <td>0.0</td>\n",
       "      <td>0.00</td>\n",
       "      <td>0.0</td>\n",
       "      <td>0.00</td>\n",
       "      <td>1.0</td>\n",
       "    </tr>\n",
       "    <tr>\n",
       "      <th>Soil_Type11</th>\n",
       "      <td>15120.0</td>\n",
       "      <td>0.026852</td>\n",
       "      <td>0.161656</td>\n",
       "      <td>0.0</td>\n",
       "      <td>0.00</td>\n",
       "      <td>0.0</td>\n",
       "      <td>0.00</td>\n",
       "      <td>1.0</td>\n",
       "    </tr>\n",
       "    <tr>\n",
       "      <th>Soil_Type12</th>\n",
       "      <td>15120.0</td>\n",
       "      <td>0.015013</td>\n",
       "      <td>0.121609</td>\n",
       "      <td>0.0</td>\n",
       "      <td>0.00</td>\n",
       "      <td>0.0</td>\n",
       "      <td>0.00</td>\n",
       "      <td>1.0</td>\n",
       "    </tr>\n",
       "    <tr>\n",
       "      <th>Soil_Type13</th>\n",
       "      <td>15120.0</td>\n",
       "      <td>0.031481</td>\n",
       "      <td>0.174621</td>\n",
       "      <td>0.0</td>\n",
       "      <td>0.00</td>\n",
       "      <td>0.0</td>\n",
       "      <td>0.00</td>\n",
       "      <td>1.0</td>\n",
       "    </tr>\n",
       "    <tr>\n",
       "      <th>Soil_Type14</th>\n",
       "      <td>15120.0</td>\n",
       "      <td>0.011177</td>\n",
       "      <td>0.105133</td>\n",
       "      <td>0.0</td>\n",
       "      <td>0.00</td>\n",
       "      <td>0.0</td>\n",
       "      <td>0.00</td>\n",
       "      <td>1.0</td>\n",
       "    </tr>\n",
       "    <tr>\n",
       "      <th>Soil_Type15</th>\n",
       "      <td>15120.0</td>\n",
       "      <td>0.000000</td>\n",
       "      <td>0.000000</td>\n",
       "      <td>0.0</td>\n",
       "      <td>0.00</td>\n",
       "      <td>0.0</td>\n",
       "      <td>0.00</td>\n",
       "      <td>0.0</td>\n",
       "    </tr>\n",
       "    <tr>\n",
       "      <th>Soil_Type16</th>\n",
       "      <td>15120.0</td>\n",
       "      <td>0.007540</td>\n",
       "      <td>0.086506</td>\n",
       "      <td>0.0</td>\n",
       "      <td>0.00</td>\n",
       "      <td>0.0</td>\n",
       "      <td>0.00</td>\n",
       "      <td>1.0</td>\n",
       "    </tr>\n",
       "    <tr>\n",
       "      <th>Soil_Type17</th>\n",
       "      <td>15120.0</td>\n",
       "      <td>0.040476</td>\n",
       "      <td>0.197080</td>\n",
       "      <td>0.0</td>\n",
       "      <td>0.00</td>\n",
       "      <td>0.0</td>\n",
       "      <td>0.00</td>\n",
       "      <td>1.0</td>\n",
       "    </tr>\n",
       "    <tr>\n",
       "      <th>Soil_Type18</th>\n",
       "      <td>15120.0</td>\n",
       "      <td>0.003968</td>\n",
       "      <td>0.062871</td>\n",
       "      <td>0.0</td>\n",
       "      <td>0.00</td>\n",
       "      <td>0.0</td>\n",
       "      <td>0.00</td>\n",
       "      <td>1.0</td>\n",
       "    </tr>\n",
       "    <tr>\n",
       "      <th>Soil_Type19</th>\n",
       "      <td>15120.0</td>\n",
       "      <td>0.003042</td>\n",
       "      <td>0.055075</td>\n",
       "      <td>0.0</td>\n",
       "      <td>0.00</td>\n",
       "      <td>0.0</td>\n",
       "      <td>0.00</td>\n",
       "      <td>1.0</td>\n",
       "    </tr>\n",
       "    <tr>\n",
       "      <th>Soil_Type20</th>\n",
       "      <td>15120.0</td>\n",
       "      <td>0.009193</td>\n",
       "      <td>0.095442</td>\n",
       "      <td>0.0</td>\n",
       "      <td>0.00</td>\n",
       "      <td>0.0</td>\n",
       "      <td>0.00</td>\n",
       "      <td>1.0</td>\n",
       "    </tr>\n",
       "    <tr>\n",
       "      <th>Soil_Type21</th>\n",
       "      <td>15120.0</td>\n",
       "      <td>0.001058</td>\n",
       "      <td>0.032514</td>\n",
       "      <td>0.0</td>\n",
       "      <td>0.00</td>\n",
       "      <td>0.0</td>\n",
       "      <td>0.00</td>\n",
       "      <td>1.0</td>\n",
       "    </tr>\n",
       "    <tr>\n",
       "      <th>Soil_Type22</th>\n",
       "      <td>15120.0</td>\n",
       "      <td>0.022817</td>\n",
       "      <td>0.149326</td>\n",
       "      <td>0.0</td>\n",
       "      <td>0.00</td>\n",
       "      <td>0.0</td>\n",
       "      <td>0.00</td>\n",
       "      <td>1.0</td>\n",
       "    </tr>\n",
       "    <tr>\n",
       "      <th>Soil_Type23</th>\n",
       "      <td>15120.0</td>\n",
       "      <td>0.050066</td>\n",
       "      <td>0.218089</td>\n",
       "      <td>0.0</td>\n",
       "      <td>0.00</td>\n",
       "      <td>0.0</td>\n",
       "      <td>0.00</td>\n",
       "      <td>1.0</td>\n",
       "    </tr>\n",
       "    <tr>\n",
       "      <th>Soil_Type24</th>\n",
       "      <td>15120.0</td>\n",
       "      <td>0.016997</td>\n",
       "      <td>0.129265</td>\n",
       "      <td>0.0</td>\n",
       "      <td>0.00</td>\n",
       "      <td>0.0</td>\n",
       "      <td>0.00</td>\n",
       "      <td>1.0</td>\n",
       "    </tr>\n",
       "    <tr>\n",
       "      <th>Soil_Type25</th>\n",
       "      <td>15120.0</td>\n",
       "      <td>0.000066</td>\n",
       "      <td>0.008133</td>\n",
       "      <td>0.0</td>\n",
       "      <td>0.00</td>\n",
       "      <td>0.0</td>\n",
       "      <td>0.00</td>\n",
       "      <td>1.0</td>\n",
       "    </tr>\n",
       "    <tr>\n",
       "      <th>Soil_Type26</th>\n",
       "      <td>15120.0</td>\n",
       "      <td>0.003571</td>\n",
       "      <td>0.059657</td>\n",
       "      <td>0.0</td>\n",
       "      <td>0.00</td>\n",
       "      <td>0.0</td>\n",
       "      <td>0.00</td>\n",
       "      <td>1.0</td>\n",
       "    </tr>\n",
       "    <tr>\n",
       "      <th>Soil_Type27</th>\n",
       "      <td>15120.0</td>\n",
       "      <td>0.000992</td>\n",
       "      <td>0.031482</td>\n",
       "      <td>0.0</td>\n",
       "      <td>0.00</td>\n",
       "      <td>0.0</td>\n",
       "      <td>0.00</td>\n",
       "      <td>1.0</td>\n",
       "    </tr>\n",
       "    <tr>\n",
       "      <th>Soil_Type28</th>\n",
       "      <td>15120.0</td>\n",
       "      <td>0.000595</td>\n",
       "      <td>0.024391</td>\n",
       "      <td>0.0</td>\n",
       "      <td>0.00</td>\n",
       "      <td>0.0</td>\n",
       "      <td>0.00</td>\n",
       "      <td>1.0</td>\n",
       "    </tr>\n",
       "    <tr>\n",
       "      <th>Soil_Type29</th>\n",
       "      <td>15120.0</td>\n",
       "      <td>0.085384</td>\n",
       "      <td>0.279461</td>\n",
       "      <td>0.0</td>\n",
       "      <td>0.00</td>\n",
       "      <td>0.0</td>\n",
       "      <td>0.00</td>\n",
       "      <td>1.0</td>\n",
       "    </tr>\n",
       "    <tr>\n",
       "      <th>Soil_Type30</th>\n",
       "      <td>15120.0</td>\n",
       "      <td>0.047950</td>\n",
       "      <td>0.213667</td>\n",
       "      <td>0.0</td>\n",
       "      <td>0.00</td>\n",
       "      <td>0.0</td>\n",
       "      <td>0.00</td>\n",
       "      <td>1.0</td>\n",
       "    </tr>\n",
       "    <tr>\n",
       "      <th>Soil_Type31</th>\n",
       "      <td>15120.0</td>\n",
       "      <td>0.021958</td>\n",
       "      <td>0.146550</td>\n",
       "      <td>0.0</td>\n",
       "      <td>0.00</td>\n",
       "      <td>0.0</td>\n",
       "      <td>0.00</td>\n",
       "      <td>1.0</td>\n",
       "    </tr>\n",
       "    <tr>\n",
       "      <th>Soil_Type32</th>\n",
       "      <td>15120.0</td>\n",
       "      <td>0.045635</td>\n",
       "      <td>0.208699</td>\n",
       "      <td>0.0</td>\n",
       "      <td>0.00</td>\n",
       "      <td>0.0</td>\n",
       "      <td>0.00</td>\n",
       "      <td>1.0</td>\n",
       "    </tr>\n",
       "    <tr>\n",
       "      <th>Soil_Type33</th>\n",
       "      <td>15120.0</td>\n",
       "      <td>0.040741</td>\n",
       "      <td>0.197696</td>\n",
       "      <td>0.0</td>\n",
       "      <td>0.00</td>\n",
       "      <td>0.0</td>\n",
       "      <td>0.00</td>\n",
       "      <td>1.0</td>\n",
       "    </tr>\n",
       "    <tr>\n",
       "      <th>Soil_Type34</th>\n",
       "      <td>15120.0</td>\n",
       "      <td>0.001455</td>\n",
       "      <td>0.038118</td>\n",
       "      <td>0.0</td>\n",
       "      <td>0.00</td>\n",
       "      <td>0.0</td>\n",
       "      <td>0.00</td>\n",
       "      <td>1.0</td>\n",
       "    </tr>\n",
       "    <tr>\n",
       "      <th>Soil_Type35</th>\n",
       "      <td>15120.0</td>\n",
       "      <td>0.006746</td>\n",
       "      <td>0.081859</td>\n",
       "      <td>0.0</td>\n",
       "      <td>0.00</td>\n",
       "      <td>0.0</td>\n",
       "      <td>0.00</td>\n",
       "      <td>1.0</td>\n",
       "    </tr>\n",
       "    <tr>\n",
       "      <th>Soil_Type36</th>\n",
       "      <td>15120.0</td>\n",
       "      <td>0.000661</td>\n",
       "      <td>0.025710</td>\n",
       "      <td>0.0</td>\n",
       "      <td>0.00</td>\n",
       "      <td>0.0</td>\n",
       "      <td>0.00</td>\n",
       "      <td>1.0</td>\n",
       "    </tr>\n",
       "    <tr>\n",
       "      <th>Soil_Type37</th>\n",
       "      <td>15120.0</td>\n",
       "      <td>0.002249</td>\n",
       "      <td>0.047368</td>\n",
       "      <td>0.0</td>\n",
       "      <td>0.00</td>\n",
       "      <td>0.0</td>\n",
       "      <td>0.00</td>\n",
       "      <td>1.0</td>\n",
       "    </tr>\n",
       "    <tr>\n",
       "      <th>Soil_Type38</th>\n",
       "      <td>15120.0</td>\n",
       "      <td>0.048148</td>\n",
       "      <td>0.214086</td>\n",
       "      <td>0.0</td>\n",
       "      <td>0.00</td>\n",
       "      <td>0.0</td>\n",
       "      <td>0.00</td>\n",
       "      <td>1.0</td>\n",
       "    </tr>\n",
       "    <tr>\n",
       "      <th>Soil_Type39</th>\n",
       "      <td>15120.0</td>\n",
       "      <td>0.043452</td>\n",
       "      <td>0.203880</td>\n",
       "      <td>0.0</td>\n",
       "      <td>0.00</td>\n",
       "      <td>0.0</td>\n",
       "      <td>0.00</td>\n",
       "      <td>1.0</td>\n",
       "    </tr>\n",
       "    <tr>\n",
       "      <th>Soil_Type40</th>\n",
       "      <td>15120.0</td>\n",
       "      <td>0.030357</td>\n",
       "      <td>0.171574</td>\n",
       "      <td>0.0</td>\n",
       "      <td>0.00</td>\n",
       "      <td>0.0</td>\n",
       "      <td>0.00</td>\n",
       "      <td>1.0</td>\n",
       "    </tr>\n",
       "    <tr>\n",
       "      <th>Cover_Type</th>\n",
       "      <td>15120.0</td>\n",
       "      <td>4.000000</td>\n",
       "      <td>2.000066</td>\n",
       "      <td>1.0</td>\n",
       "      <td>2.00</td>\n",
       "      <td>4.0</td>\n",
       "      <td>6.00</td>\n",
       "      <td>7.0</td>\n",
       "    </tr>\n",
       "  </tbody>\n",
       "</table>\n",
       "</div>"
      ],
      "text/plain": [
       "                                      count         mean          std     min  \\\n",
       "Id                                  15120.0  7560.500000  4364.912370     1.0   \n",
       "Elevation                           15120.0  2749.322553   417.678187  1863.0   \n",
       "Aspect                              15120.0   156.676653   110.085801     0.0   \n",
       "Slope                               15120.0    16.501587     8.453927     0.0   \n",
       "Horizontal_Distance_To_Hydrology    15120.0   227.195701   210.075296     0.0   \n",
       "Vertical_Distance_To_Hydrology      15120.0    51.076521    61.239406  -146.0   \n",
       "Horizontal_Distance_To_Roadways     15120.0  1714.023214  1325.066358     0.0   \n",
       "Hillshade_9am                       15120.0   212.704299    30.561287     0.0   \n",
       "Hillshade_Noon                      15120.0   218.965608    22.801966    99.0   \n",
       "Hillshade_3pm                       15120.0   135.091997    45.895189     0.0   \n",
       "Horizontal_Distance_To_Fire_Points  15120.0  1511.147288  1099.936493     0.0   \n",
       "Wilderness_Area1                    15120.0     0.237897     0.425810     0.0   \n",
       "Wilderness_Area2                    15120.0     0.033003     0.178649     0.0   \n",
       "Wilderness_Area3                    15120.0     0.419907     0.493560     0.0   \n",
       "Wilderness_Area4                    15120.0     0.309193     0.462176     0.0   \n",
       "Soil_Type1                          15120.0     0.023479     0.151424     0.0   \n",
       "Soil_Type2                          15120.0     0.041204     0.198768     0.0   \n",
       "Soil_Type3                          15120.0     0.063624     0.244091     0.0   \n",
       "Soil_Type4                          15120.0     0.055754     0.229454     0.0   \n",
       "Soil_Type5                          15120.0     0.010913     0.103896     0.0   \n",
       "Soil_Type6                          15120.0     0.042989     0.202840     0.0   \n",
       "Soil_Type7                          15120.0     0.000000     0.000000     0.0   \n",
       "Soil_Type8                          15120.0     0.000066     0.008133     0.0   \n",
       "Soil_Type9                          15120.0     0.000661     0.025710     0.0   \n",
       "Soil_Type10                         15120.0     0.141667     0.348719     0.0   \n",
       "Soil_Type11                         15120.0     0.026852     0.161656     0.0   \n",
       "Soil_Type12                         15120.0     0.015013     0.121609     0.0   \n",
       "Soil_Type13                         15120.0     0.031481     0.174621     0.0   \n",
       "Soil_Type14                         15120.0     0.011177     0.105133     0.0   \n",
       "Soil_Type15                         15120.0     0.000000     0.000000     0.0   \n",
       "Soil_Type16                         15120.0     0.007540     0.086506     0.0   \n",
       "Soil_Type17                         15120.0     0.040476     0.197080     0.0   \n",
       "Soil_Type18                         15120.0     0.003968     0.062871     0.0   \n",
       "Soil_Type19                         15120.0     0.003042     0.055075     0.0   \n",
       "Soil_Type20                         15120.0     0.009193     0.095442     0.0   \n",
       "Soil_Type21                         15120.0     0.001058     0.032514     0.0   \n",
       "Soil_Type22                         15120.0     0.022817     0.149326     0.0   \n",
       "Soil_Type23                         15120.0     0.050066     0.218089     0.0   \n",
       "Soil_Type24                         15120.0     0.016997     0.129265     0.0   \n",
       "Soil_Type25                         15120.0     0.000066     0.008133     0.0   \n",
       "Soil_Type26                         15120.0     0.003571     0.059657     0.0   \n",
       "Soil_Type27                         15120.0     0.000992     0.031482     0.0   \n",
       "Soil_Type28                         15120.0     0.000595     0.024391     0.0   \n",
       "Soil_Type29                         15120.0     0.085384     0.279461     0.0   \n",
       "Soil_Type30                         15120.0     0.047950     0.213667     0.0   \n",
       "Soil_Type31                         15120.0     0.021958     0.146550     0.0   \n",
       "Soil_Type32                         15120.0     0.045635     0.208699     0.0   \n",
       "Soil_Type33                         15120.0     0.040741     0.197696     0.0   \n",
       "Soil_Type34                         15120.0     0.001455     0.038118     0.0   \n",
       "Soil_Type35                         15120.0     0.006746     0.081859     0.0   \n",
       "Soil_Type36                         15120.0     0.000661     0.025710     0.0   \n",
       "Soil_Type37                         15120.0     0.002249     0.047368     0.0   \n",
       "Soil_Type38                         15120.0     0.048148     0.214086     0.0   \n",
       "Soil_Type39                         15120.0     0.043452     0.203880     0.0   \n",
       "Soil_Type40                         15120.0     0.030357     0.171574     0.0   \n",
       "Cover_Type                          15120.0     4.000000     2.000066     1.0   \n",
       "\n",
       "                                        25%     50%       75%      max  \n",
       "Id                                  3780.75  7560.5  11340.25  15120.0  \n",
       "Elevation                           2376.00  2752.0   3104.00   3849.0  \n",
       "Aspect                                65.00   126.0    261.00    360.0  \n",
       "Slope                                 10.00    15.0     22.00     52.0  \n",
       "Horizontal_Distance_To_Hydrology      67.00   180.0    330.00   1343.0  \n",
       "Vertical_Distance_To_Hydrology         5.00    32.0     79.00    554.0  \n",
       "Horizontal_Distance_To_Roadways      764.00  1316.0   2270.00   6890.0  \n",
       "Hillshade_9am                        196.00   220.0    235.00    254.0  \n",
       "Hillshade_Noon                       207.00   223.0    235.00    254.0  \n",
       "Hillshade_3pm                        106.00   138.0    167.00    248.0  \n",
       "Horizontal_Distance_To_Fire_Points   730.00  1256.0   1988.25   6993.0  \n",
       "Wilderness_Area1                       0.00     0.0      0.00      1.0  \n",
       "Wilderness_Area2                       0.00     0.0      0.00      1.0  \n",
       "Wilderness_Area3                       0.00     0.0      1.00      1.0  \n",
       "Wilderness_Area4                       0.00     0.0      1.00      1.0  \n",
       "Soil_Type1                             0.00     0.0      0.00      1.0  \n",
       "Soil_Type2                             0.00     0.0      0.00      1.0  \n",
       "Soil_Type3                             0.00     0.0      0.00      1.0  \n",
       "Soil_Type4                             0.00     0.0      0.00      1.0  \n",
       "Soil_Type5                             0.00     0.0      0.00      1.0  \n",
       "Soil_Type6                             0.00     0.0      0.00      1.0  \n",
       "Soil_Type7                             0.00     0.0      0.00      0.0  \n",
       "Soil_Type8                             0.00     0.0      0.00      1.0  \n",
       "Soil_Type9                             0.00     0.0      0.00      1.0  \n",
       "Soil_Type10                            0.00     0.0      0.00      1.0  \n",
       "Soil_Type11                            0.00     0.0      0.00      1.0  \n",
       "Soil_Type12                            0.00     0.0      0.00      1.0  \n",
       "Soil_Type13                            0.00     0.0      0.00      1.0  \n",
       "Soil_Type14                            0.00     0.0      0.00      1.0  \n",
       "Soil_Type15                            0.00     0.0      0.00      0.0  \n",
       "Soil_Type16                            0.00     0.0      0.00      1.0  \n",
       "Soil_Type17                            0.00     0.0      0.00      1.0  \n",
       "Soil_Type18                            0.00     0.0      0.00      1.0  \n",
       "Soil_Type19                            0.00     0.0      0.00      1.0  \n",
       "Soil_Type20                            0.00     0.0      0.00      1.0  \n",
       "Soil_Type21                            0.00     0.0      0.00      1.0  \n",
       "Soil_Type22                            0.00     0.0      0.00      1.0  \n",
       "Soil_Type23                            0.00     0.0      0.00      1.0  \n",
       "Soil_Type24                            0.00     0.0      0.00      1.0  \n",
       "Soil_Type25                            0.00     0.0      0.00      1.0  \n",
       "Soil_Type26                            0.00     0.0      0.00      1.0  \n",
       "Soil_Type27                            0.00     0.0      0.00      1.0  \n",
       "Soil_Type28                            0.00     0.0      0.00      1.0  \n",
       "Soil_Type29                            0.00     0.0      0.00      1.0  \n",
       "Soil_Type30                            0.00     0.0      0.00      1.0  \n",
       "Soil_Type31                            0.00     0.0      0.00      1.0  \n",
       "Soil_Type32                            0.00     0.0      0.00      1.0  \n",
       "Soil_Type33                            0.00     0.0      0.00      1.0  \n",
       "Soil_Type34                            0.00     0.0      0.00      1.0  \n",
       "Soil_Type35                            0.00     0.0      0.00      1.0  \n",
       "Soil_Type36                            0.00     0.0      0.00      1.0  \n",
       "Soil_Type37                            0.00     0.0      0.00      1.0  \n",
       "Soil_Type38                            0.00     0.0      0.00      1.0  \n",
       "Soil_Type39                            0.00     0.0      0.00      1.0  \n",
       "Soil_Type40                            0.00     0.0      0.00      1.0  \n",
       "Cover_Type                             2.00     4.0      6.00      7.0  "
      ]
     },
     "execution_count": 15,
     "metadata": {},
     "output_type": "execute_result"
    }
   ],
   "source": [
    "df.describe().T"
   ]
  },
  {
   "cell_type": "code",
   "execution_count": 16,
   "metadata": {
    "_uuid": "930d9f83ab3fec912af7f1b0c0b1bfc9744b1edf"
   },
   "outputs": [],
   "source": [
    "y = df.Cover_Type\n",
    "df.drop([\"Id\", \"Cover_Type\"], axis=1, inplace=True)"
   ]
  },
  {
   "cell_type": "code",
   "execution_count": 17,
   "metadata": {
    "_uuid": "2dfd24fd0927e5f31fe575e7fec01b63b7a6ac76"
   },
   "outputs": [],
   "source": [
    "cols = df.columns.values"
   ]
  },
  {
   "cell_type": "code",
   "execution_count": 18,
   "metadata": {
    "_uuid": "f7689bb5203aa82531f78178a9cf8dc909acbc2a"
   },
   "outputs": [
    {
     "data": {
      "text/plain": [
       "RandomForestClassifier(bootstrap=True, class_weight=None, criterion='gini',\n",
       "            max_depth=None, max_features='auto', max_leaf_nodes=None,\n",
       "            min_impurity_decrease=0.0, min_impurity_split=None,\n",
       "            min_samples_leaf=1, min_samples_split=2,\n",
       "            min_weight_fraction_leaf=0.0, n_estimators=10, n_jobs=1,\n",
       "            oob_score=False, random_state=None, verbose=0,\n",
       "            warm_start=False)"
      ]
     },
     "execution_count": 18,
     "metadata": {},
     "output_type": "execute_result"
    }
   ],
   "source": [
    "rf_classifier = RandomForestClassifier()\n",
    "rf_classifier.fit(df, y)"
   ]
  },
  {
   "cell_type": "code",
   "execution_count": 19,
   "metadata": {
    "_uuid": "eab2405e351e91b2b4d6dbda6afe4d0bb05ba308"
   },
   "outputs": [
    {
     "data": {
      "text/plain": [
       "0.9939153439153439"
      ]
     },
     "execution_count": 19,
     "metadata": {},
     "output_type": "execute_result"
    }
   ],
   "source": [
    "rf_classifier.score(df, y)"
   ]
  },
  {
   "cell_type": "code",
   "execution_count": 20,
   "metadata": {
    "_uuid": "3355cff74939d12131ab8766d61c5a48923af1b8"
   },
   "outputs": [],
   "source": [
    "X_train, X_valid, y_train, y_valid = train_test_split(df, y, test_size=0.3, random_state = 7)\n",
    "X_train = X_train.values\n",
    "X_valid = X_valid.values\n",
    "y_train = y_train.values\n",
    "y_valid = y_valid.values"
   ]
  },
  {
   "cell_type": "code",
   "execution_count": 21,
   "metadata": {
    "_uuid": "002a4f58161c8bb5700d5fb7d2ae60b4acfac3df"
   },
   "outputs": [
    {
     "name": "stdout",
     "output_type": "stream",
     "text": [
      "[[   1 1516]\n",
      " [   2 1530]\n",
      " [   3 1489]\n",
      " [   4 1526]\n",
      " [   5 1499]\n",
      " [   6 1494]\n",
      " [   7 1530]]\n"
     ]
    }
   ],
   "source": [
    "unique, counts = np.unique(y_train, return_counts=True)\n",
    "\n",
    "print (np.asarray((unique, counts)).T)"
   ]
  },
  {
   "cell_type": "code",
   "execution_count": 22,
   "metadata": {
    "_uuid": "032e58eca0d91f0289c298b25de2a2ff5203304b"
   },
   "outputs": [],
   "source": [
    "def print_score(m):\n",
    "    print (\"train:\",m.score(X_train,y_train), \"valid:\", m.score(X_valid, y_valid), \"oob: \", m.oob_score_)"
   ]
  },
  {
   "cell_type": "markdown",
   "metadata": {
    "_uuid": "0304daeba70de08ed634eb3c01b3974aaf75e0c3"
   },
   "source": [
    "## Baseline Classifier"
   ]
  },
  {
   "cell_type": "code",
   "execution_count": 23,
   "metadata": {
    "_uuid": "5dd5418ce0aac7f9688da0f35aa49c2db03b5334"
   },
   "outputs": [
    {
     "name": "stdout",
     "output_type": "stream",
     "text": [
      "train: 0.9958427815570673 valid: 0.8240740740740741 oob:  0.7582199546485261\n"
     ]
    },
    {
     "name": "stderr",
     "output_type": "stream",
     "text": [
      "C:\\Users\\bguaman\\AppData\\Local\\Continuum\\anaconda3\\envs\\fastai\\lib\\site-packages\\sklearn\\ensemble\\forest.py:453: UserWarning: Some inputs do not have OOB scores. This probably means too few trees were used to compute any reliable oob estimates.\n",
      "  warn(\"Some inputs do not have OOB scores. \"\n",
      "C:\\Users\\bguaman\\AppData\\Local\\Continuum\\anaconda3\\envs\\fastai\\lib\\site-packages\\sklearn\\ensemble\\forest.py:458: RuntimeWarning: invalid value encountered in true_divide\n",
      "  predictions[k].sum(axis=1)[:, np.newaxis])\n"
     ]
    }
   ],
   "source": [
    "rf_classifier = RandomForestClassifier(oob_score=True)\n",
    "rf_classifier.fit(X_train, y_train)\n",
    "print_score(rf_classifier)"
   ]
  },
  {
   "cell_type": "markdown",
   "metadata": {
    "_uuid": "057950d03ae8b52570448556be2c5c7e9ec4fdf7"
   },
   "source": [
    "## Impact of number of trees"
   ]
  },
  {
   "cell_type": "code",
   "execution_count": 24,
   "metadata": {
    "_uuid": "5189714f4ee6cc119a98b163d53c6b9c866896c7"
   },
   "outputs": [
    {
     "name": "stdout",
     "output_type": "stream",
     "text": [
      "train: 1.0 valid: 0.8571428571428571 oob:  0.8484504913076342\n"
     ]
    }
   ],
   "source": [
    "rf_classifier = RandomForestClassifier(n_estimators = 100, oob_score=True)\n",
    "rf_classifier.fit(X_train, y_train)\n",
    "print_score(rf_classifier)"
   ]
  },
  {
   "cell_type": "code",
   "execution_count": 25,
   "metadata": {
    "_uuid": "1b9e7febf14513453de700134fa14ffd0ba13778"
   },
   "outputs": [],
   "source": [
    "preds = np.stack([t.predict(X_valid) for t in rf_classifier.estimators_])"
   ]
  },
  {
   "cell_type": "code",
   "execution_count": 26,
   "metadata": {
    "_uuid": "a722d83e0652189640f3e0667d41b5a27f1a0c34"
   },
   "outputs": [
    {
     "data": {
      "text/plain": [
       "(array([6., 0., 0., 0., 0., 0., 0., 0., 0., 0., 0., 6., 0., 6., 0., 1., 0.,\n",
       "        0., 0., 0., 0., 0., 0., 0., 0., 0., 1., 0., 0., 0., 0., 0., 0., 0.,\n",
       "        0., 0., 0., 0., 0., 1., 0., 0., 0., 0., 0., 1., 0., 0., 0., 0., 0.,\n",
       "        1., 6., 0., 0., 0., 0., 1., 0., 0., 1., 0., 0., 1., 0., 0., 0., 0.,\n",
       "        1., 1., 0., 0., 0., 0., 0., 0., 1., 0., 0., 0., 0., 0., 0., 0., 0.,\n",
       "        1., 0., 0., 0., 0., 0., 0., 0., 1., 0., 0., 0., 0., 0., 0.]),\n",
       " array([0.]),\n",
       " 1)"
      ]
     },
     "execution_count": 26,
     "metadata": {},
     "output_type": "execute_result"
    }
   ],
   "source": [
    "preds[:,0], scipy.stats.mode(preds[:,0])[0], y_valid[0]"
   ]
  },
  {
   "cell_type": "code",
   "execution_count": 27,
   "metadata": {
    "_uuid": "1baf8b35bf9bcb0e0192dddb6c6e2e710ee29d50"
   },
   "outputs": [
    {
     "data": {
      "image/png": "[encoded data removed]",
      "text/plain": [
       "<Figure size 432x288 with 1 Axes>"
      ]
     },
     "metadata": {},
     "output_type": "display_data"
    }
   ],
   "source": [
    "plt.plot([accuracy_score(y_valid, scipy.stats.mode(preds[:i+1], axis=0)[0][0]+1) for i in range(len(rf_classifier.estimators_))]);"
   ]
  },
  {
   "cell_type": "markdown",
   "metadata": {
    "_uuid": "d0090a69ef42df35ecb72b3c348821ea95999b98"
   },
   "source": [
    "## Reducing Overfitting"
   ]
  },
  {
   "cell_type": "code",
   "execution_count": 28,
   "metadata": {
    "_uuid": "9701b099521a18b99b8edb138859e2c2865c63c7"
   },
   "outputs": [
    {
     "name": "stdout",
     "output_type": "stream",
     "text": [
      "train: 0.9726946334089192 valid: 0.845679012345679 oob:  0.8435374149659864\n"
     ]
    }
   ],
   "source": [
    "c = RandomForestClassifier(min_samples_leaf=3, n_estimators=100, max_features=0.5, oob_score=True)\n",
    "c.fit(X_train, y_train)\n",
    "print_score(c)"
   ]
  },
  {
   "cell_type": "markdown",
   "metadata": {
    "_uuid": "ef88ed4384b301fd1cac331dc17c7b1eeb5724cb"
   },
   "source": [
    "### Inspection"
   ]
  },
  {
   "cell_type": "code",
   "execution_count": 29,
   "metadata": {
    "_uuid": "4ea9c3e0487d0feb85ca670d46343979d18b45bb"
   },
   "outputs": [],
   "source": [
    "cm = confusion_matrix(y_valid, c.predict(X_valid))"
   ]
  },
  {
   "cell_type": "code",
   "execution_count": 30,
   "metadata": {
    "_uuid": "b5c4da36ca616b7e5702f2cba30e75f1692f60a3"
   },
   "outputs": [
    {
     "data": {
      "image/png": "[encoded data removed]",
      "text/plain": [
       "<Figure size 432x288 with 2 Axes>"
      ]
     },
     "metadata": {},
     "output_type": "display_data"
    }
   ],
   "source": [
    "sns.heatmap(cm, annot=True, annot_kws={\"size\": 8});"
   ]
  },
  {
   "cell_type": "markdown",
   "metadata": {
    "_uuid": "c4cab637ab2e4d27e82a69406c4f594a564e24a3"
   },
   "source": [
    "### Feature Importance"
   ]
  },
  {
   "cell_type": "code",
   "execution_count": 31,
   "metadata": {
    "_uuid": "d1d278ee95ded4501708ac39606e901e38406a1c"
   },
   "outputs": [],
   "source": [
    "def rf_feat_importance(m, df):\n",
    "    return pd.DataFrame({'cols':df.columns, 'imp':m.feature_importances_}\n",
    "                       ).sort_values('imp', ascending=False)"
   ]
  },
  {
   "cell_type": "code",
   "execution_count": 32,
   "metadata": {
    "_uuid": "99ab141c3b6a266a770ce2728ad2d7a6350b05b6"
   },
   "outputs": [
    {
     "data": {
      "text/html": [
       "<div>\n",
       "<style scoped>\n",
       "    .dataframe tbody tr th:only-of-type {\n",
       "        vertical-align: middle;\n",
       "    }\n",
       "\n",
       "    .dataframe tbody tr th {\n",
       "        vertical-align: top;\n",
       "    }\n",
       "\n",
       "    .dataframe thead th {\n",
       "        text-align: right;\n",
       "    }\n",
       "</style>\n",
       "<table border=\"1\" class=\"dataframe\">\n",
       "  <thead>\n",
       "    <tr style=\"text-align: right;\">\n",
       "      <th></th>\n",
       "      <th>cols</th>\n",
       "      <th>imp</th>\n",
       "    </tr>\n",
       "  </thead>\n",
       "  <tbody>\n",
       "    <tr>\n",
       "      <th>0</th>\n",
       "      <td>Elevation</td>\n",
       "      <td>0.356657</td>\n",
       "    </tr>\n",
       "    <tr>\n",
       "      <th>5</th>\n",
       "      <td>Horizontal_Distance_To_Roadways</td>\n",
       "      <td>0.087929</td>\n",
       "    </tr>\n",
       "    <tr>\n",
       "      <th>9</th>\n",
       "      <td>Horizontal_Distance_To_Fire_Points</td>\n",
       "      <td>0.072026</td>\n",
       "    </tr>\n",
       "    <tr>\n",
       "      <th>3</th>\n",
       "      <td>Horizontal_Distance_To_Hydrology</td>\n",
       "      <td>0.065257</td>\n",
       "    </tr>\n",
       "    <tr>\n",
       "      <th>13</th>\n",
       "      <td>Wilderness_Area4</td>\n",
       "      <td>0.052253</td>\n",
       "    </tr>\n",
       "    <tr>\n",
       "      <th>6</th>\n",
       "      <td>Hillshade_9am</td>\n",
       "      <td>0.045353</td>\n",
       "    </tr>\n",
       "    <tr>\n",
       "      <th>4</th>\n",
       "      <td>Vertical_Distance_To_Hydrology</td>\n",
       "      <td>0.042902</td>\n",
       "    </tr>\n",
       "    <tr>\n",
       "      <th>1</th>\n",
       "      <td>Aspect</td>\n",
       "      <td>0.035276</td>\n",
       "    </tr>\n",
       "    <tr>\n",
       "      <th>7</th>\n",
       "      <td>Hillshade_Noon</td>\n",
       "      <td>0.032632</td>\n",
       "    </tr>\n",
       "    <tr>\n",
       "      <th>8</th>\n",
       "      <td>Hillshade_3pm</td>\n",
       "      <td>0.029580</td>\n",
       "    </tr>\n",
       "    <tr>\n",
       "      <th>2</th>\n",
       "      <td>Slope</td>\n",
       "      <td>0.020805</td>\n",
       "    </tr>\n",
       "    <tr>\n",
       "      <th>16</th>\n",
       "      <td>Soil_Type3</td>\n",
       "      <td>0.019608</td>\n",
       "    </tr>\n",
       "    <tr>\n",
       "      <th>23</th>\n",
       "      <td>Soil_Type10</td>\n",
       "      <td>0.018939</td>\n",
       "    </tr>\n",
       "    <tr>\n",
       "      <th>10</th>\n",
       "      <td>Wilderness_Area1</td>\n",
       "      <td>0.015500</td>\n",
       "    </tr>\n",
       "    <tr>\n",
       "      <th>52</th>\n",
       "      <td>Soil_Type39</td>\n",
       "      <td>0.015309</td>\n",
       "    </tr>\n",
       "  </tbody>\n",
       "</table>\n",
       "</div>"
      ],
      "text/plain": [
       "                                  cols       imp\n",
       "0                            Elevation  0.356657\n",
       "5      Horizontal_Distance_To_Roadways  0.087929\n",
       "9   Horizontal_Distance_To_Fire_Points  0.072026\n",
       "3     Horizontal_Distance_To_Hydrology  0.065257\n",
       "13                    Wilderness_Area4  0.052253\n",
       "6                        Hillshade_9am  0.045353\n",
       "4       Vertical_Distance_To_Hydrology  0.042902\n",
       "1                               Aspect  0.035276\n",
       "7                       Hillshade_Noon  0.032632\n",
       "8                        Hillshade_3pm  0.029580\n",
       "2                                Slope  0.020805\n",
       "16                          Soil_Type3  0.019608\n",
       "23                         Soil_Type10  0.018939\n",
       "10                    Wilderness_Area1  0.015500\n",
       "52                         Soil_Type39  0.015309"
      ]
     },
     "execution_count": 32,
     "metadata": {},
     "output_type": "execute_result"
    }
   ],
   "source": [
    "fi = rf_feat_importance(c, df); fi[:15]"
   ]
  },
  {
   "cell_type": "code",
   "execution_count": 33,
   "metadata": {
    "_uuid": "08c47459c8d50bf1c60be225af7b1ef198afbcd6"
   },
   "outputs": [],
   "source": [
    "def plot_fi(fi): return fi.plot('cols', 'imp', 'barh', figsize=(12,7), legend=False)"
   ]
  },
  {
   "cell_type": "code",
   "execution_count": 34,
   "metadata": {
    "_uuid": "c73d50ca4f6ae6278cebc717bf963f2d38c1ed48"
   },
   "outputs": [
    {
     "data": {
      "image/png": "[encoded data removed]",
      "text/plain": [
       "<Figure size 864x504 with 1 Axes>"
      ]
     },
     "metadata": {},
     "output_type": "display_data"
    }
   ],
   "source": [
    "plot_fi(fi[:30]);"
   ]
  },
  {
   "cell_type": "markdown",
   "metadata": {
    "_uuid": "cd046aebf60202031d55cf28e5057419a6084329"
   },
   "source": [
    "## Adding Features"
   ]
  },
  {
   "cell_type": "code",
   "execution_count": 35,
   "metadata": {
    "_uuid": "c93abb0297df6b4407c6337fd9157b96b5f11210"
   },
   "outputs": [],
   "source": [
    "def add_features(df):\n",
    "    df['HF1'] = df['Horizontal_Distance_To_Hydrology']+df['Horizontal_Distance_To_Fire_Points']\n",
    "    df['HF2'] = abs(df['Horizontal_Distance_To_Hydrology']-df['Horizontal_Distance_To_Fire_Points'])\n",
    "    df['HR1'] = abs(df['Horizontal_Distance_To_Hydrology']+df['Horizontal_Distance_To_Roadways'])\n",
    "    df['HR2'] = abs(df['Horizontal_Distance_To_Hydrology']-df['Horizontal_Distance_To_Roadways'])\n",
    "    df['FR1'] = abs(df['Horizontal_Distance_To_Fire_Points']+df['Horizontal_Distance_To_Roadways'])\n",
    "    df['FR2'] = abs(df['Horizontal_Distance_To_Fire_Points']-df['Horizontal_Distance_To_Roadways'])\n",
    "    df['ele_vert'] = df.Elevation-df.Vertical_Distance_To_Hydrology\n",
    "\n",
    "    df['slope_hyd'] = (df['Horizontal_Distance_To_Hydrology']**2+df['Vertical_Distance_To_Hydrology']**2)**0.5\n",
    "    df.slope_hyd=df.slope_hyd.map(lambda x: 0 if np.isinf(x) else x) # remove infinite value if any\n",
    "\n",
    "    #Mean distance to Amenities \n",
    "    df['Mean_Amenities']=(df.Horizontal_Distance_To_Fire_Points + df.Horizontal_Distance_To_Hydrology + df.Horizontal_Distance_To_Roadways) / 3 \n",
    "    #Mean Distance to Fire and Water \n",
    "    df['Mean_Fire_Hyd']=(df.Horizontal_Distance_To_Fire_Points + df.Horizontal_Distance_To_Hydrology) / 2\n",
    "    return df"
   ]
  },
  {
   "cell_type": "code",
   "execution_count": 36,
   "metadata": {
    "_uuid": "3a707540feb41ba56d27521e830a19bacdae0f6c"
   },
   "outputs": [],
   "source": [
    "df = add_features(df)"
   ]
  },
  {
   "cell_type": "code",
   "execution_count": 37,
   "metadata": {
    "_uuid": "b3ddd20f40f4808bf3b8c35565bff9808472c44b"
   },
   "outputs": [
    {
     "data": {
      "text/plain": [
       "Index(['Elevation', 'Aspect', 'Slope', 'Horizontal_Distance_To_Hydrology',\n",
       "       'Vertical_Distance_To_Hydrology', 'Horizontal_Distance_To_Roadways',\n",
       "       'Hillshade_9am', 'Hillshade_Noon', 'Hillshade_3pm',\n",
       "       'Horizontal_Distance_To_Fire_Points', 'Wilderness_Area1',\n",
       "       'Wilderness_Area2', 'Wilderness_Area3', 'Wilderness_Area4',\n",
       "       'Soil_Type1', 'Soil_Type2', 'Soil_Type3', 'Soil_Type4', 'Soil_Type5',\n",
       "       'Soil_Type6', 'Soil_Type7', 'Soil_Type8', 'Soil_Type9', 'Soil_Type10',\n",
       "       'Soil_Type11', 'Soil_Type12', 'Soil_Type13', 'Soil_Type14',\n",
       "       'Soil_Type15', 'Soil_Type16', 'Soil_Type17', 'Soil_Type18',\n",
       "       'Soil_Type19', 'Soil_Type20', 'Soil_Type21', 'Soil_Type22',\n",
       "       'Soil_Type23', 'Soil_Type24', 'Soil_Type25', 'Soil_Type26',\n",
       "       'Soil_Type27', 'Soil_Type28', 'Soil_Type29', 'Soil_Type30',\n",
       "       'Soil_Type31', 'Soil_Type32', 'Soil_Type33', 'Soil_Type34',\n",
       "       'Soil_Type35', 'Soil_Type36', 'Soil_Type37', 'Soil_Type38',\n",
       "       'Soil_Type39', 'Soil_Type40', 'HF1', 'HF2', 'HR1', 'HR2', 'FR1', 'FR2',\n",
       "       'ele_vert', 'slope_hyd', 'Mean_Amenities', 'Mean_Fire_Hyd'],\n",
       "      dtype='object')"
      ]
     },
     "execution_count": 37,
     "metadata": {},
     "output_type": "execute_result"
    }
   ],
   "source": [
    "X_train, X_valid, y_train, y_valid = train_test_split(df, y, test_size=0.3, random_state = 7)\n",
    "X_train.columns"
   ]
  },
  {
   "cell_type": "code",
   "execution_count": 38,
   "metadata": {
    "_uuid": "a67a48edc8314fa9a3f3ab6534816b0f111a0c51"
   },
   "outputs": [
    {
     "name": "stdout",
     "output_type": "stream",
     "text": [
      "train: 0.9790249433106576 valid: 0.8648589065255732 oob:  0.8638510959939532\n"
     ]
    }
   ],
   "source": [
    "c = RandomForestClassifier(min_samples_leaf=3, n_estimators=100, max_features=0.5, oob_score=True)\n",
    "c.fit(X_train, y_train)\n",
    "print_score(c)"
   ]
  },
  {
   "cell_type": "code",
   "execution_count": 39,
   "metadata": {
    "_uuid": "6170a67c87a5749748070ad4d2c5b8bba391f8fc"
   },
   "outputs": [],
   "source": [
    "fi = rf_feat_importance(c, X_train)"
   ]
  },
  {
   "cell_type": "code",
   "execution_count": 40,
   "metadata": {
    "_uuid": "53f91ebf0003fcb3c8e6989b14e91671530ed2ae"
   },
   "outputs": [
    {
     "data": {
      "text/html": [
       "<div>\n",
       "<style scoped>\n",
       "    .dataframe tbody tr th:only-of-type {\n",
       "        vertical-align: middle;\n",
       "    }\n",
       "\n",
       "    .dataframe tbody tr th {\n",
       "        vertical-align: top;\n",
       "    }\n",
       "\n",
       "    .dataframe thead th {\n",
       "        text-align: right;\n",
       "    }\n",
       "</style>\n",
       "<table border=\"1\" class=\"dataframe\">\n",
       "  <thead>\n",
       "    <tr style=\"text-align: right;\">\n",
       "      <th></th>\n",
       "      <th>cols</th>\n",
       "      <th>imp</th>\n",
       "    </tr>\n",
       "  </thead>\n",
       "  <tbody>\n",
       "    <tr>\n",
       "      <th>0</th>\n",
       "      <td>Elevation</td>\n",
       "      <td>0.217947</td>\n",
       "    </tr>\n",
       "    <tr>\n",
       "      <th>60</th>\n",
       "      <td>ele_vert</td>\n",
       "      <td>0.210011</td>\n",
       "    </tr>\n",
       "    <tr>\n",
       "      <th>6</th>\n",
       "      <td>Hillshade_9am</td>\n",
       "      <td>0.041614</td>\n",
       "    </tr>\n",
       "    <tr>\n",
       "      <th>58</th>\n",
       "      <td>FR1</td>\n",
       "      <td>0.036839</td>\n",
       "    </tr>\n",
       "    <tr>\n",
       "      <th>61</th>\n",
       "      <td>slope_hyd</td>\n",
       "      <td>0.032732</td>\n",
       "    </tr>\n",
       "    <tr>\n",
       "      <th>59</th>\n",
       "      <td>FR2</td>\n",
       "      <td>0.031017</td>\n",
       "    </tr>\n",
       "    <tr>\n",
       "      <th>62</th>\n",
       "      <td>Mean_Amenities</td>\n",
       "      <td>0.030866</td>\n",
       "    </tr>\n",
       "    <tr>\n",
       "      <th>57</th>\n",
       "      <td>HR2</td>\n",
       "      <td>0.030354</td>\n",
       "    </tr>\n",
       "    <tr>\n",
       "      <th>1</th>\n",
       "      <td>Aspect</td>\n",
       "      <td>0.024503</td>\n",
       "    </tr>\n",
       "    <tr>\n",
       "      <th>7</th>\n",
       "      <td>Hillshade_Noon</td>\n",
       "      <td>0.023564</td>\n",
       "    </tr>\n",
       "    <tr>\n",
       "      <th>13</th>\n",
       "      <td>Wilderness_Area4</td>\n",
       "      <td>0.023290</td>\n",
       "    </tr>\n",
       "    <tr>\n",
       "      <th>5</th>\n",
       "      <td>Horizontal_Distance_To_Roadways</td>\n",
       "      <td>0.023193</td>\n",
       "    </tr>\n",
       "    <tr>\n",
       "      <th>3</th>\n",
       "      <td>Horizontal_Distance_To_Hydrology</td>\n",
       "      <td>0.022411</td>\n",
       "    </tr>\n",
       "    <tr>\n",
       "      <th>56</th>\n",
       "      <td>HR1</td>\n",
       "      <td>0.021150</td>\n",
       "    </tr>\n",
       "    <tr>\n",
       "      <th>55</th>\n",
       "      <td>HF2</td>\n",
       "      <td>0.021133</td>\n",
       "    </tr>\n",
       "    <tr>\n",
       "      <th>4</th>\n",
       "      <td>Vertical_Distance_To_Hydrology</td>\n",
       "      <td>0.019267</td>\n",
       "    </tr>\n",
       "    <tr>\n",
       "      <th>9</th>\n",
       "      <td>Horizontal_Distance_To_Fire_Points</td>\n",
       "      <td>0.018368</td>\n",
       "    </tr>\n",
       "    <tr>\n",
       "      <th>63</th>\n",
       "      <td>Mean_Fire_Hyd</td>\n",
       "      <td>0.018112</td>\n",
       "    </tr>\n",
       "    <tr>\n",
       "      <th>54</th>\n",
       "      <td>HF1</td>\n",
       "      <td>0.017535</td>\n",
       "    </tr>\n",
       "    <tr>\n",
       "      <th>8</th>\n",
       "      <td>Hillshade_3pm</td>\n",
       "      <td>0.016989</td>\n",
       "    </tr>\n",
       "  </tbody>\n",
       "</table>\n",
       "</div>"
      ],
      "text/plain": [
       "                                  cols       imp\n",
       "0                            Elevation  0.217947\n",
       "60                            ele_vert  0.210011\n",
       "6                        Hillshade_9am  0.041614\n",
       "58                                 FR1  0.036839\n",
       "61                           slope_hyd  0.032732\n",
       "59                                 FR2  0.031017\n",
       "62                      Mean_Amenities  0.030866\n",
       "57                                 HR2  0.030354\n",
       "1                               Aspect  0.024503\n",
       "7                       Hillshade_Noon  0.023564\n",
       "13                    Wilderness_Area4  0.023290\n",
       "5      Horizontal_Distance_To_Roadways  0.023193\n",
       "3     Horizontal_Distance_To_Hydrology  0.022411\n",
       "56                                 HR1  0.021150\n",
       "55                                 HF2  0.021133\n",
       "4       Vertical_Distance_To_Hydrology  0.019267\n",
       "9   Horizontal_Distance_To_Fire_Points  0.018368\n",
       "63                       Mean_Fire_Hyd  0.018112\n",
       "54                                 HF1  0.017535\n",
       "8                        Hillshade_3pm  0.016989"
      ]
     },
     "execution_count": 40,
     "metadata": {},
     "output_type": "execute_result"
    }
   ],
   "source": [
    "fi[:20]"
   ]
  },
  {
   "cell_type": "code",
   "execution_count": 41,
   "metadata": {
    "_uuid": "fef10449c8fa337f44cdd6a20db59acfcc9ca08d"
   },
   "outputs": [
    {
     "data": {
      "text/plain": [
       "<matplotlib.axes._subplots.AxesSubplot at 0x5e692fee48>"
      ]
     },
     "execution_count": 41,
     "metadata": {},
     "output_type": "execute_result"
    },
    {
     "data": {
      "image/png": "[encoded data removed]",
      "text/plain": [
       "<Figure size 864x504 with 1 Axes>"
      ]
     },
     "metadata": {},
     "output_type": "display_data"
    }
   ],
   "source": [
    "plot_fi(fi[:30])"
   ]
  },
  {
   "cell_type": "code",
   "execution_count": 42,
   "metadata": {
    "_uuid": "f5fb24492f187f38109d58fd088d317190cae4a7"
   },
   "outputs": [
    {
     "data": {
      "text/plain": [
       "28"
      ]
     },
     "execution_count": 42,
     "metadata": {},
     "output_type": "execute_result"
    }
   ],
   "source": [
    "to_keep = fi[fi.imp>0.005].cols; len(to_keep)"
   ]
  },
  {
   "cell_type": "code",
   "execution_count": 43,
   "metadata": {
    "_uuid": "583e7a9a99a53ef74d0302dfc0e4ccf949d952d7"
   },
   "outputs": [],
   "source": [
    "df_keep = df[to_keep].copy()\n",
    "X_train, X_valid, y_train, y_valid = train_test_split(df_keep, y, test_size=0.3, random_state = 7)"
   ]
  },
  {
   "cell_type": "code",
   "execution_count": 44,
   "metadata": {
    "_uuid": "02a0b42853a14c3c4134ba3658626df184f281ca"
   },
   "outputs": [
    {
     "name": "stdout",
     "output_type": "stream",
     "text": [
      "Wall time: 7.69 s\n",
      "train: 0.9774187452758881 valid: 0.8600088183421517 oob:  0.8594104308390023\n"
     ]
    }
   ],
   "source": [
    "c = RandomForestClassifier(min_samples_leaf=3, n_estimators=100, max_features=0.5, oob_score=True)\n",
    "%time c.fit(X_train, y_train)\n",
    "print_score(c)"
   ]
  },
  {
   "cell_type": "code",
   "execution_count": 45,
   "metadata": {
    "_uuid": "ad512567082c33e86d1bb002c5e9af874189b527"
   },
   "outputs": [
    {
     "data": {
      "text/plain": [
       "<matplotlib.axes._subplots.AxesSubplot at 0x5e6906ba58>"
      ]
     },
     "execution_count": 45,
     "metadata": {},
     "output_type": "execute_result"
    },
    {
     "data": {
      "image/png": "[encoded data removed]",
      "text/plain": [
       "<Figure size 864x504 with 1 Axes>"
      ]
     },
     "metadata": {},
     "output_type": "display_data"
    }
   ],
   "source": [
    "fi = rf_feat_importance(c, X_train)\n",
    "plot_fi(fi)"
   ]
  },
  {
   "cell_type": "markdown",
   "metadata": {
    "_uuid": "8c8a9411120f484c860311e741c2f6880beb700d"
   },
   "source": [
    "## Creating test preds"
   ]
  },
  {
   "cell_type": "code",
   "execution_count": 46,
   "metadata": {
    "_uuid": "eda893ba6a162bd681d2c7354cef258c2df7c51c"
   },
   "outputs": [
    {
     "name": "stdout",
     "output_type": "stream",
     "text": [
      "Wall time: 11.9 s\n",
      "train: 0.9794973544973545 valid: 0.9817019400352733 oob:  0.8716269841269841\n"
     ]
    }
   ],
   "source": [
    "c = RandomForestClassifier(min_samples_leaf=3, n_estimators=100, max_features=0.5, oob_score=True)\n",
    "%time c.fit(df_keep, y)\n",
    "print_score(c)"
   ]
  },
  {
   "cell_type": "code",
   "execution_count": 47,
   "metadata": {
    "_uuid": "d3c15231d16d943fe97d8dadb92a877e24ba5be0"
   },
   "outputs": [],
   "source": [
    "X_test = pd.read_csv(f\"{PATH}/test.csv\")"
   ]
  },
  {
   "cell_type": "code",
   "execution_count": 48,
   "metadata": {
    "_uuid": "493dac1b755763937c9b4e57310dcf1acead54ef"
   },
   "outputs": [],
   "source": [
    "X_test = add_features(X_test)\n",
    "test = X_test[to_keep].copy()"
   ]
  },
  {
   "cell_type": "code",
   "execution_count": 49,
   "metadata": {
    "_uuid": "092d108b84079973faa997ab36395648fe6a79f0"
   },
   "outputs": [],
   "source": [
    "test_preds = c.predict(test)"
   ]
  },
  {
   "cell_type": "code",
   "execution_count": 50,
   "metadata": {
    "_uuid": "086c71250febe542bc99709af02c2867ba435bba"
   },
   "outputs": [],
   "source": [
    "res = pd.DataFrame({\"Id\": X_test.Id, \"Cover_Type\": test_preds})"
   ]
  },
  {
   "cell_type": "code",
   "execution_count": 51,
   "metadata": {
    "_uuid": "c3d1b400e31e7c8ca9c9f9968c008fdc44c6cda5"
   },
   "outputs": [],
   "source": [
    "res.to_csv(f\"submission_rf_new_features.csv\", index=False)"
   ]
  },
  {
   "cell_type": "code",
   "execution_count": null,
   "metadata": {
    "_uuid": "42e100ffc7f5a9d6f082fef5727731a3f15d307f"
   },
   "outputs": [],
   "source": []
  }
 ],
 "metadata": {
  "kernelspec": {
   "display_name": "Python 3",
   "language": "python",
   "name": "python3"
  },
  "language_info": {
   "codemirror_mode": {
    "name": "ipython",
    "version": 3
   },
   "file_extension": ".py",
   "mimetype": "text/x-python",
   "name": "python",
   "nbconvert_exporter": "python",
   "pygments_lexer": "ipython3",
   "version": "3.6.5"
  }
 },
 "nbformat": 4,
 "nbformat_minor": 1
}
