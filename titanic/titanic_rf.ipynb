{
 "cells": [
  {
   "cell_type": "markdown",
   "metadata": {
    "_cell_guid": "b08819f5-01fc-640e-c570-d7c370f34014",
    "_uuid": "7770e41b986ce53d663f7ce2568263c6e7b6291b"
   },
   "source": [
    "This document is a thorough overview of my process for building a predictive model for Kaggle's Titanic competition. I will provide all my essential steps in this model as well as the reasoning behind each decision I made. This model achieves a score of 82.78%, which is in the top 3% of all submissions at the time of this writing. This is a great introductory modeling exercise due to the simple nature of the data, yet there is still a lot to be gleaned from following a process that ultimately yields a high score.\n",
    "\n",
    "You can get my original code on my GitHub: https://github.com/zlatankr/Projects/tree/master/Titanic  \n",
    "You get also read my write-up on my blog:  https://zlatankr.github.io/posts/2017/01/30/kaggle-titanic "
   ]
  },
  {
   "cell_type": "markdown",
   "metadata": {
    "_cell_guid": "381ac8a1-9f18-f1bd-67ed-f165373c8d0f",
    "_uuid": "b54538344b4ccf976ddc6de3a1b0fda0ecee66bf"
   },
   "source": [
    "### The Problem"
   ]
  },
  {
   "cell_type": "markdown",
   "metadata": {
    "_cell_guid": "76f20215-7870-47db-e2f0-c253a43aa8db",
    "_uuid": "1ae0d7217789a62ea20795ec796eb4432ade5533"
   },
   "source": [
    "We are given information about a subset of the Titanic population and asked to build a predictive model that tells us whether or not a given passenger survived the shipwreck. We are given 10 basic explanatory variables, including passenger gender, age, and price of fare, among others. More details about the competition can be found on the Kaggle site, [here](https://www.kaggle.com/c/titanic). This is a classic binary classification problem, and we will be implementing a random forest classifer."
   ]
  },
  {
   "cell_type": "markdown",
   "metadata": {
    "_cell_guid": "0941247d-c2f1-a753-e4ff-583a88f2e7dc",
    "_uuid": "8f1786d87878b963e29d92c3453fdc45bed63eee"
   },
   "source": [
    "### Exploratory Data Analysis"
   ]
  },
  {
   "cell_type": "markdown",
   "metadata": {
    "_cell_guid": "e99bef63-bd89-42e9-6897-aba6337b2afb",
    "_uuid": "8f9ef2a44ce473001d78de521c00f1ce4623f5e4"
   },
   "source": [
    "The goal of this section is to gain an understanding of our data in order to inform what we do in the feature engineering section.  \n",
    "\n",
    "We begin our exploratory data analysis by loading our standard modules."
   ]
  },
  {
   "cell_type": "code",
   "execution_count": 1,
   "metadata": {
    "_cell_guid": "9ae4a31b-44ce-72b7-375b-1376bcc81142",
    "_uuid": "e0fb7705dc119f3980bcde11a09838f79ad0cfde"
   },
   "outputs": [],
   "source": [
    "import os\n",
    "import pandas as pd\n",
    "import numpy as np\n",
    "import seaborn as sns\n",
    "import matplotlib.pyplot as plt\n",
    "%matplotlib inline"
   ]
  },
  {
   "cell_type": "markdown",
   "metadata": {
    "_cell_guid": "6e6e109b-469e-4210-18a9-59d56448fddc",
    "_uuid": "6d1ea479fc5a9eef54158ae182a04b5d9992822d"
   },
   "source": [
    "We then load the data, which we have downloaded from the Kaggle website ([here](https://www.kaggle.com/c/titanic/data) is a link to the data if you need it)."
   ]
  },
  {
   "cell_type": "code",
   "execution_count": 2,
   "metadata": {
    "_cell_guid": "e117a178-539a-d880-ab8c-5306d6d671f0",
    "_uuid": "b7a37d8e45694f483ed201742492dc1acf3b44a6",
    "collapsed": true
   },
   "outputs": [],
   "source": [
    "train = pd.read_csv(os.path.join('./', 'train.csv'))\n",
    "test = pd.read_csv(os.path.join('./', 'test.csv'))"
   ]
  },
  {
   "cell_type": "markdown",
   "metadata": {
    "_cell_guid": "d67e8e9f-d809-7138-9ebc-c8c9fa1fb88c",
    "_uuid": "e4d096c8646af30cc0386250450b7ccae4277d38"
   },
   "source": [
    "First, let's take a look at the summary of all the data. Immediately, we note that `Age`, `Cabin`, and `Embarked` have nulls that we'll have to deal with. "
   ]
  },
  {
   "cell_type": "code",
   "execution_count": 3,
   "metadata": {
    "_cell_guid": "166004fb-0092-7fb9-f890-1b764a7f6da9",
    "_uuid": "b3a384724117f5869d6727886cd386618048a8ca"
   },
   "outputs": [
    {
     "name": "stdout",
     "output_type": "stream",
     "text": [
      "<class 'pandas.core.frame.DataFrame'>\n",
      "RangeIndex: 891 entries, 0 to 890\n",
      "Data columns (total 12 columns):\n",
      "PassengerId    891 non-null int64\n",
      "Survived       891 non-null int64\n",
      "Pclass         891 non-null int64\n",
      "Name           891 non-null object\n",
      "Sex            891 non-null object\n",
      "Age            714 non-null float64\n",
      "SibSp          891 non-null int64\n",
      "Parch          891 non-null int64\n",
      "Ticket         891 non-null object\n",
      "Fare           891 non-null float64\n",
      "Cabin          204 non-null object\n",
      "Embarked       889 non-null object\n",
      "dtypes: float64(2), int64(5), object(5)\n",
      "memory usage: 83.6+ KB\n"
     ]
    }
   ],
   "source": [
    "train.info()"
   ]
  },
  {
   "cell_type": "markdown",
   "metadata": {
    "_cell_guid": "928cc3b0-b08d-cd49-0c0a-993f51cc5070",
    "_uuid": "4c96c74a532b6fca31d9bef36da8d046654f3132"
   },
   "source": [
    "It appears that we can drop the `PassengerId` column, since it is merely an index. Note, however, that some people have reportedly improved their score with the `PassengerId` column. However, my cursory attempt to do so did not yield positive results, and moreover I would like to mimic a real-life scenario, where an index of a dataset generally has no correlation with the target variable."
   ]
  },
  {
   "cell_type": "code",
   "execution_count": 4,
   "metadata": {
    "_cell_guid": "2fee872c-6233-57b1-d6a8-d017ef15edbd",
    "_uuid": "0af563b0416fd30d7cd814b9b40de164e784d584"
   },
   "outputs": [
    {
     "data": {
      "text/html": [
       "<div>\n",
       "<style scoped>\n",
       "    .dataframe tbody tr th:only-of-type {\n",
       "        vertical-align: middle;\n",
       "    }\n",
       "\n",
       "    .dataframe tbody tr th {\n",
       "        vertical-align: top;\n",
       "    }\n",
       "\n",
       "    .dataframe thead th {\n",
       "        text-align: right;\n",
       "    }\n",
       "</style>\n",
       "<table border=\"1\" class=\"dataframe\">\n",
       "  <thead>\n",
       "    <tr style=\"text-align: right;\">\n",
       "      <th></th>\n",
       "      <th>PassengerId</th>\n",
       "      <th>Survived</th>\n",
       "      <th>Pclass</th>\n",
       "      <th>Name</th>\n",
       "      <th>Sex</th>\n",
       "      <th>Age</th>\n",
       "      <th>SibSp</th>\n",
       "      <th>Parch</th>\n",
       "      <th>Ticket</th>\n",
       "      <th>Fare</th>\n",
       "      <th>Cabin</th>\n",
       "      <th>Embarked</th>\n",
       "    </tr>\n",
       "  </thead>\n",
       "  <tbody>\n",
       "    <tr>\n",
       "      <th>0</th>\n",
       "      <td>1</td>\n",
       "      <td>0</td>\n",
       "      <td>3</td>\n",
       "      <td>Braund, Mr. Owen Harris</td>\n",
       "      <td>male</td>\n",
       "      <td>22.0</td>\n",
       "      <td>1</td>\n",
       "      <td>0</td>\n",
       "      <td>A/5 21171</td>\n",
       "      <td>7.2500</td>\n",
       "      <td>NaN</td>\n",
       "      <td>S</td>\n",
       "    </tr>\n",
       "    <tr>\n",
       "      <th>1</th>\n",
       "      <td>2</td>\n",
       "      <td>1</td>\n",
       "      <td>1</td>\n",
       "      <td>Cumings, Mrs. John Bradley (Florence Briggs Th...</td>\n",
       "      <td>female</td>\n",
       "      <td>38.0</td>\n",
       "      <td>1</td>\n",
       "      <td>0</td>\n",
       "      <td>PC 17599</td>\n",
       "      <td>71.2833</td>\n",
       "      <td>C85</td>\n",
       "      <td>C</td>\n",
       "    </tr>\n",
       "    <tr>\n",
       "      <th>2</th>\n",
       "      <td>3</td>\n",
       "      <td>1</td>\n",
       "      <td>3</td>\n",
       "      <td>Heikkinen, Miss. Laina</td>\n",
       "      <td>female</td>\n",
       "      <td>26.0</td>\n",
       "      <td>0</td>\n",
       "      <td>0</td>\n",
       "      <td>STON/O2. 3101282</td>\n",
       "      <td>7.9250</td>\n",
       "      <td>NaN</td>\n",
       "      <td>S</td>\n",
       "    </tr>\n",
       "    <tr>\n",
       "      <th>3</th>\n",
       "      <td>4</td>\n",
       "      <td>1</td>\n",
       "      <td>1</td>\n",
       "      <td>Futrelle, Mrs. Jacques Heath (Lily May Peel)</td>\n",
       "      <td>female</td>\n",
       "      <td>35.0</td>\n",
       "      <td>1</td>\n",
       "      <td>0</td>\n",
       "      <td>113803</td>\n",
       "      <td>53.1000</td>\n",
       "      <td>C123</td>\n",
       "      <td>S</td>\n",
       "    </tr>\n",
       "    <tr>\n",
       "      <th>4</th>\n",
       "      <td>5</td>\n",
       "      <td>0</td>\n",
       "      <td>3</td>\n",
       "      <td>Allen, Mr. William Henry</td>\n",
       "      <td>male</td>\n",
       "      <td>35.0</td>\n",
       "      <td>0</td>\n",
       "      <td>0</td>\n",
       "      <td>373450</td>\n",
       "      <td>8.0500</td>\n",
       "      <td>NaN</td>\n",
       "      <td>S</td>\n",
       "    </tr>\n",
       "  </tbody>\n",
       "</table>\n",
       "</div>"
      ],
      "text/plain": [
       "   PassengerId  Survived  Pclass  \\\n",
       "0            1         0       3   \n",
       "1            2         1       1   \n",
       "2            3         1       3   \n",
       "3            4         1       1   \n",
       "4            5         0       3   \n",
       "\n",
       "                                                Name     Sex   Age  SibSp  \\\n",
       "0                            Braund, Mr. Owen Harris    male  22.0      1   \n",
       "1  Cumings, Mrs. John Bradley (Florence Briggs Th...  female  38.0      1   \n",
       "2                             Heikkinen, Miss. Laina  female  26.0      0   \n",
       "3       Futrelle, Mrs. Jacques Heath (Lily May Peel)  female  35.0      1   \n",
       "4                           Allen, Mr. William Henry    male  35.0      0   \n",
       "\n",
       "   Parch            Ticket     Fare Cabin Embarked  \n",
       "0      0         A/5 21171   7.2500   NaN        S  \n",
       "1      0          PC 17599  71.2833   C85        C  \n",
       "2      0  STON/O2. 3101282   7.9250   NaN        S  \n",
       "3      0            113803  53.1000  C123        S  \n",
       "4      0            373450   8.0500   NaN        S  "
      ]
     },
     "execution_count": 4,
     "metadata": {},
     "output_type": "execute_result"
    }
   ],
   "source": [
    "train.head()"
   ]
  },
  {
   "cell_type": "markdown",
   "metadata": {
    "_cell_guid": "60222a6a-c1e9-f4ea-1755-876ee316bcd8",
    "_uuid": "f71112bab1a89c5c50f5c6b56e5cbe9960133e70"
   },
   "source": [
    "## Survived\n",
    "\n",
    "So we can see that 62% of the people in the training set died. This is slightly less than the estimated 67% that died in the actual shipwreck (1500/2224)."
   ]
  },
  {
   "cell_type": "code",
   "execution_count": 5,
   "metadata": {
    "_cell_guid": "9dbce66e-2848-ebf6-c09a-780434aafff7",
    "_uuid": "b63bf09f02680222179001c632b4aa1567157e8d"
   },
   "outputs": [
    {
     "data": {
      "text/plain": [
       "0    0.616162\n",
       "1    0.383838\n",
       "Name: Survived, dtype: float64"
      ]
     },
     "execution_count": 5,
     "metadata": {},
     "output_type": "execute_result"
    }
   ],
   "source": [
    "train['Survived'].value_counts(normalize=True)"
   ]
  },
  {
   "cell_type": "code",
   "execution_count": 6,
   "metadata": {
    "_cell_guid": "c88b648e-b372-ffd0-e723-7bfc9ee300d8",
    "_uuid": "e1094089119fe35883894193abc7ae92152021ae"
   },
   "outputs": [
    {
     "data": {
      "text/plain": [
       "<matplotlib.axes._subplots.AxesSubplot at 0x7f7ec7e569b0>"
      ]
     },
     "execution_count": 6,
     "metadata": {},
     "output_type": "execute_result"
    },
    {
     "data": {
      "image/png": "[encoded data removed]",
      "text/plain": [
       "<matplotlib.figure.Figure at 0x7f7f035a2240>"
      ]
     },
     "metadata": {},
     "output_type": "display_data"
    }
   ],
   "source": [
    "sns.countplot(train['Survived'])"
   ]
  },
  {
   "cell_type": "markdown",
   "metadata": {
    "_cell_guid": "1b2597e6-a286-b116-04dd-aae4f8d1b5f4",
    "_uuid": "7e95893c017bc57f04bf6902f4c8f0400e4f9ae3"
   },
   "source": [
    "## Pclass\n",
    "\n",
    "Class played a critical role in survival, as the survival rate decreased drastically for the lowest class. This variable is both useful and clean, and I will be treating it as a categorical variable. "
   ]
  },
  {
   "cell_type": "code",
   "execution_count": 7,
   "metadata": {
    "_cell_guid": "458388eb-4f35-0af2-239a-c9dd53e0d008",
    "_uuid": "13ed66d0d514ac7de5020f8b2c3719d018cacb49"
   },
   "outputs": [
    {
     "data": {
      "text/plain": [
       "Pclass\n",
       "1    0.629630\n",
       "2    0.472826\n",
       "3    0.242363\n",
       "Name: Survived, dtype: float64"
      ]
     },
     "execution_count": 7,
     "metadata": {},
     "output_type": "execute_result"
    }
   ],
   "source": [
    "train['Survived'].groupby(train['Pclass']).mean()"
   ]
  },
  {
   "cell_type": "code",
   "execution_count": 8,
   "metadata": {
    "_cell_guid": "ac5b3dc3-902b-b282-1f90-5c1f7f832cb6",
    "_uuid": "c4d8653bfec6c86c66784020797ca7b654f98958"
   },
   "outputs": [
    {
     "data": {
      "text/plain": [
       "<matplotlib.axes._subplots.AxesSubplot at 0x7f7ec7e1dfd0>"
      ]
     },
     "execution_count": 8,
     "metadata": {},
     "output_type": "execute_result"
    },
    {
     "data": {
      "image/png": "[encoded data removed]",
      "text/plain": [
       "<matplotlib.figure.Figure at 0x7f7f035a2860>"
      ]
     },
     "metadata": {},
     "output_type": "display_data"
    }
   ],
   "source": [
    "sns.countplot(train['Pclass'], hue=train['Survived'])"
   ]
  },
  {
   "cell_type": "markdown",
   "metadata": {
    "_cell_guid": "4fe97912-7dce-4884-2aa6-bf13206059ee",
    "_uuid": "d89165c2e67b883ebe173a00823d10efc385a85e"
   },
   "source": [
    "## Name  \n",
    "\n",
    "The `Name` column as provided cannot be used in the model. However, we might be able to extract some meaningful information from it."
   ]
  },
  {
   "cell_type": "code",
   "execution_count": 9,
   "metadata": {
    "_cell_guid": "172c8639-bdfe-7cab-6ed8-f369537cf17a",
    "_uuid": "553805d55af37e348ab4b3a55c86d511a55e80c6"
   },
   "outputs": [
    {
     "data": {
      "text/plain": [
       "0                              Braund, Mr. Owen Harris\n",
       "1    Cumings, Mrs. John Bradley (Florence Briggs Th...\n",
       "2                               Heikkinen, Miss. Laina\n",
       "3         Futrelle, Mrs. Jacques Heath (Lily May Peel)\n",
       "4                             Allen, Mr. William Henry\n",
       "Name: Name, dtype: object"
      ]
     },
     "execution_count": 9,
     "metadata": {},
     "output_type": "execute_result"
    }
   ],
   "source": [
    "train['Name'].head()"
   ]
  },
  {
   "cell_type": "markdown",
   "metadata": {
    "_cell_guid": "739d554d-6c07-deff-26f6-e0cf07b2d7e4",
    "_uuid": "c19deba3cbbe16c3b1b8afb91d400091637a4730"
   },
   "source": [
    "First, we can obtain useful information about the passenger's title. Looking at the distribution of the titles, it might be useful to group the smaller sized values into an 'other' group, although I ultimately choose not to do this."
   ]
  },
  {
   "cell_type": "code",
   "execution_count": 10,
   "metadata": {
    "_cell_guid": "6e6a66e6-ea43-daaf-9ef3-74d2f94e78e4",
    "_uuid": "faceaa2d1fd686c2902d2a3202b972375a7b2279"
   },
   "outputs": [
    {
     "data": {
      "text/plain": [
       "Mr.          517\n",
       "Miss.        182\n",
       "Mrs.         125\n",
       "Master.       40\n",
       "Dr.            7\n",
       "Rev.           6\n",
       "Mlle.          2\n",
       "Major.         2\n",
       "Col.           2\n",
       "the            1\n",
       "Jonkheer.      1\n",
       "Mme.           1\n",
       "Capt.          1\n",
       "Don.           1\n",
       "Ms.            1\n",
       "Lady.          1\n",
       "Sir.           1\n",
       "Name: Name_Title, dtype: int64"
      ]
     },
     "execution_count": 10,
     "metadata": {},
     "output_type": "execute_result"
    }
   ],
   "source": [
    "train['Name_Title'] = train['Name'].apply(lambda x: x.split(',')[1]).apply(lambda x: x.split()[0])\n",
    "train['Name_Title'].value_counts()"
   ]
  },
  {
   "cell_type": "markdown",
   "metadata": {
    "_cell_guid": "ab3b7cf1-661d-92f2-fdbf-7a1538121c27",
    "_uuid": "cce4425434fc8bbfe5d91f0ea377d35a93703347"
   },
   "source": [
    "I have relatively high hopes for this new variable we created, since the survival rate appears to be either significantly above or below the average survival rate, which should help our model."
   ]
  },
  {
   "cell_type": "code",
   "execution_count": 11,
   "metadata": {
    "_cell_guid": "28a9443f-d57b-9603-b4b2-9918aa5b9de9",
    "_uuid": "70672ceb8f1177e09f05e328bc8658899a039cae"
   },
   "outputs": [
    {
     "data": {
      "text/plain": [
       "Name_Title\n",
       "Capt.        0.000000\n",
       "Col.         0.500000\n",
       "Don.         0.000000\n",
       "Dr.          0.428571\n",
       "Jonkheer.    0.000000\n",
       "Lady.        1.000000\n",
       "Major.       0.500000\n",
       "Master.      0.575000\n",
       "Miss.        0.697802\n",
       "Mlle.        1.000000\n",
       "Mme.         1.000000\n",
       "Mr.          0.156673\n",
       "Mrs.         0.792000\n",
       "Ms.          1.000000\n",
       "Rev.         0.000000\n",
       "Sir.         1.000000\n",
       "the          1.000000\n",
       "Name: Survived, dtype: float64"
      ]
     },
     "execution_count": 11,
     "metadata": {},
     "output_type": "execute_result"
    }
   ],
   "source": [
    "train['Survived'].groupby(train['Name_Title']).mean()"
   ]
  },
  {
   "cell_type": "markdown",
   "metadata": {
    "_cell_guid": "a83b6580-accf-aa46-6047-747351e7af74",
    "_uuid": "09aad049bf3ed7d4db25b6681c41ec9841b738e6"
   },
   "source": [
    "Additionally, looking at the relationship between the length of a name and survival rate appears to indicate that there is indeed a clear relationship. What might this mean? Are people with longer names more important, and thus more likely to be prioritized in a shipwreck? "
   ]
  },
  {
   "cell_type": "code",
   "execution_count": 12,
   "metadata": {
    "_cell_guid": "52890a72-b787-de0a-89ca-bc2b3801ecc7",
    "_uuid": "d72b5004d7914c487e4cfc8f8a149f23c3befed8"
   },
   "outputs": [
    {
     "data": {
      "text/plain": [
       "Name_Len\n",
       "(11.999, 19.0]    0.220588\n",
       "(19.0, 23.0]      0.301282\n",
       "(23.0, 27.0]      0.319797\n",
       "(27.0, 32.0]      0.442424\n",
       "(32.0, 82.0]      0.674556\n",
       "Name: Survived, dtype: float64"
      ]
     },
     "execution_count": 12,
     "metadata": {},
     "output_type": "execute_result"
    }
   ],
   "source": [
    "train['Name_Len'] = train['Name'].apply(lambda x: len(x))\n",
    "train['Survived'].groupby(pd.qcut(train['Name_Len'],5)).mean()"
   ]
  },
  {
   "cell_type": "code",
   "execution_count": 13,
   "metadata": {
    "_cell_guid": "9ec0117b-cac2-e7e1-6e97-79b915a101b0",
    "_uuid": "54509ac6b6d8ebebef32a04578053ec9ea6198dc"
   },
   "outputs": [
    {
     "data": {
      "text/plain": [
       "(11.999, 19.0]    204\n",
       "(23.0, 27.0]      197\n",
       "(32.0, 82.0]      169\n",
       "(27.0, 32.0]      165\n",
       "(19.0, 23.0]      156\n",
       "Name: Name_Len, dtype: int64"
      ]
     },
     "execution_count": 13,
     "metadata": {},
     "output_type": "execute_result"
    }
   ],
   "source": [
    "pd.qcut(train['Name_Len'],5).value_counts()"
   ]
  },
  {
   "cell_type": "markdown",
   "metadata": {
    "_cell_guid": "4a672747-c56e-80a5-7033-c48eada12967",
    "_uuid": "0d23d30d98d3b147fd29d75d5006c665e2e5af40"
   },
   "source": [
    "## Sex"
   ]
  },
  {
   "cell_type": "markdown",
   "metadata": {
    "_cell_guid": "df2e2f58-17cd-2030-551f-6ab167d1734c",
    "_uuid": "c3dff8678ba79e3a414e5d035e50992cab5128e1"
   },
   "source": [
    "\"Women and children first,\" goes the famous saying. Thus, we should expect females to have a higher survival rate than males, and indeed that is the case. We expect this variable to be very useful in our model."
   ]
  },
  {
   "cell_type": "code",
   "execution_count": 14,
   "metadata": {
    "_cell_guid": "d8ceb9b1-64e3-a7fd-1358-27f5d76a9370",
    "_uuid": "ef8ceb29722c36d3293a252b98b517300b2d59d4"
   },
   "outputs": [
    {
     "data": {
      "text/plain": [
       "male      0.647587\n",
       "female    0.352413\n",
       "Name: Sex, dtype: float64"
      ]
     },
     "execution_count": 14,
     "metadata": {},
     "output_type": "execute_result"
    }
   ],
   "source": [
    "train['Sex'].value_counts(normalize=True)"
   ]
  },
  {
   "cell_type": "code",
   "execution_count": 15,
   "metadata": {
    "_cell_guid": "0689eaf1-de8b-9f99-9f5c-e79edb34144f",
    "_uuid": "ad07e1b872c2e638d8a4355bc8bdd9b7e75ce2ff"
   },
   "outputs": [
    {
     "data": {
      "text/plain": [
       "Sex\n",
       "female    0.742038\n",
       "male      0.188908\n",
       "Name: Survived, dtype: float64"
      ]
     },
     "execution_count": 15,
     "metadata": {},
     "output_type": "execute_result"
    }
   ],
   "source": [
    "train['Survived'].groupby(train['Sex']).mean()"
   ]
  },
  {
   "cell_type": "markdown",
   "metadata": {
    "_cell_guid": "cf819841-2844-f4b1-ea6f-28c6f264ff32",
    "_uuid": "dd17ff60ac1fd93107e8997bf28e0f1d9c91be44"
   },
   "source": [
    "## Age\n",
    "\n",
    "There are 177 nulls for `Age`, and they have a 10% lower survival rate than the non-nulls. Before imputing values for the nulls, we will include an `Age_null` flag just to make sure we can account for this characteristic of the data. "
   ]
  },
  {
   "cell_type": "code",
   "execution_count": 16,
   "metadata": {
    "_cell_guid": "020cb2b5-c7ba-acd1-4ef9-2892c4fa92cc",
    "_uuid": "e8d43e16a08fcbf178b3f210eee965a01e231fe7"
   },
   "outputs": [
    {
     "data": {
      "text/plain": [
       "Age\n",
       "False    0.406162\n",
       "True     0.293785\n",
       "Name: Survived, dtype: float64"
      ]
     },
     "execution_count": 16,
     "metadata": {},
     "output_type": "execute_result"
    }
   ],
   "source": [
    "train['Survived'].groupby(train['Age'].isnull()).mean()"
   ]
  },
  {
   "cell_type": "markdown",
   "metadata": {
    "_cell_guid": "f7b100d8-f88b-aa5c-f308-23796440aba7",
    "_uuid": "11c808ca0615055ae755c60523b801e580d2ba0b"
   },
   "source": [
    "Upon first glance, the relationship between age and survival appears to be a murky one at best. However, this doesn't mean that the variable will be a bad predictor; at deeper levels of a given decision tree, a more discriminant relationship might open up."
   ]
  },
  {
   "cell_type": "code",
   "execution_count": 17,
   "metadata": {
    "_cell_guid": "93e8bec2-73ea-e452-0296-cb89143b7f59",
    "_uuid": "e176df6250f707a98bfa0ef4b3e74ab88b92aacf"
   },
   "outputs": [
    {
     "data": {
      "text/plain": [
       "Age\n",
       "(0.419, 19.0]    0.481707\n",
       "(19.0, 25.0]     0.328467\n",
       "(25.0, 31.8]     0.393701\n",
       "(31.8, 41.0]     0.437500\n",
       "(41.0, 80.0]     0.373239\n",
       "Name: Survived, dtype: float64"
      ]
     },
     "execution_count": 17,
     "metadata": {},
     "output_type": "execute_result"
    }
   ],
   "source": [
    "train['Survived'].groupby(pd.qcut(train['Age'],5)).mean()"
   ]
  },
  {
   "cell_type": "code",
   "execution_count": 18,
   "metadata": {
    "_cell_guid": "0422ff7a-5820-960c-a52a-3e8c21436d5c",
    "_uuid": "96bad5aab513dcb36d622dccfbb6663ccf1b1e02"
   },
   "outputs": [
    {
     "data": {
      "text/plain": [
       "(0.419, 19.0]    164\n",
       "(31.8, 41.0]     144\n",
       "(41.0, 80.0]     142\n",
       "(19.0, 25.0]     137\n",
       "(25.0, 31.8]     127\n",
       "Name: Age, dtype: int64"
      ]
     },
     "execution_count": 18,
     "metadata": {},
     "output_type": "execute_result"
    }
   ],
   "source": [
    "pd.qcut(train['Age'],5).value_counts()"
   ]
  },
  {
   "cell_type": "markdown",
   "metadata": {
    "_cell_guid": "c00eb333-4e5b-579f-5245-dae66e015a52",
    "_uuid": "d6db4bd7449201a5dcf5c3d8447fc599c08747ea"
   },
   "source": [
    "## SibSp  \n",
    "\n",
    "Upon first glance, I'm not too convinced of the importance of this variable. The distribution and survival rate between the different categories does not give me much hope."
   ]
  },
  {
   "cell_type": "code",
   "execution_count": 19,
   "metadata": {
    "_cell_guid": "d508ae21-884e-d851-ea53-3a575fe163f2",
    "_uuid": "1ec5c4409a53d8060659b2eb2fd0e91b94eb3f21"
   },
   "outputs": [
    {
     "data": {
      "text/plain": [
       "SibSp\n",
       "0    0.345395\n",
       "1    0.535885\n",
       "2    0.464286\n",
       "3    0.250000\n",
       "4    0.166667\n",
       "5    0.000000\n",
       "8    0.000000\n",
       "Name: Survived, dtype: float64"
      ]
     },
     "execution_count": 19,
     "metadata": {},
     "output_type": "execute_result"
    }
   ],
   "source": [
    "train['Survived'].groupby(train['SibSp']).mean()"
   ]
  },
  {
   "cell_type": "code",
   "execution_count": 20,
   "metadata": {
    "_cell_guid": "ce8f0963-0be8-3a7f-be5e-91f30bfb6594",
    "_uuid": "9e8b1f6cb9345fb382c7e3658b2eff5dbeef1bfc"
   },
   "outputs": [
    {
     "data": {
      "text/plain": [
       "0    608\n",
       "1    209\n",
       "2     28\n",
       "4     18\n",
       "3     16\n",
       "8      7\n",
       "5      5\n",
       "Name: SibSp, dtype: int64"
      ]
     },
     "execution_count": 20,
     "metadata": {},
     "output_type": "execute_result"
    }
   ],
   "source": [
    "train['SibSp'].value_counts()"
   ]
  },
  {
   "cell_type": "markdown",
   "metadata": {
    "_cell_guid": "f9f32721-ec87-eb57-0657-af569e03f6ee",
    "_uuid": "d57e581aa3c7c3c22b08a54612417f9c9da3193a"
   },
   "source": [
    "## Parch\n",
    "\n",
    "Same conclusions as `Sibsp`: passengers with zero parents or children had a lower likelihood of survival than otherwise, but that survival rate was only slightly less than the overall population survival rate. "
   ]
  },
  {
   "cell_type": "code",
   "execution_count": 21,
   "metadata": {
    "_cell_guid": "1aa7aded-23e8-0f22-642f-6f740c511203",
    "_uuid": "f5b61d8215b3a21cd7427d4283dec24ca7f06f6d"
   },
   "outputs": [
    {
     "data": {
      "text/plain": [
       "Parch\n",
       "0    0.343658\n",
       "1    0.550847\n",
       "2    0.500000\n",
       "3    0.600000\n",
       "4    0.000000\n",
       "5    0.200000\n",
       "6    0.000000\n",
       "Name: Survived, dtype: float64"
      ]
     },
     "execution_count": 21,
     "metadata": {},
     "output_type": "execute_result"
    }
   ],
   "source": [
    "train['Survived'].groupby(train['Parch']).mean()"
   ]
  },
  {
   "cell_type": "code",
   "execution_count": 22,
   "metadata": {
    "_cell_guid": "6ab6c4a7-4bb3-afb5-38f1-8b990d518201",
    "_uuid": "5cc482271b7f7b4dd1c6cb29cc09f7c416f34fee"
   },
   "outputs": [
    {
     "data": {
      "text/plain": [
       "0    678\n",
       "1    118\n",
       "2     80\n",
       "5      5\n",
       "3      5\n",
       "4      4\n",
       "6      1\n",
       "Name: Parch, dtype: int64"
      ]
     },
     "execution_count": 22,
     "metadata": {},
     "output_type": "execute_result"
    }
   ],
   "source": [
    "train['Parch'].value_counts()"
   ]
  },
  {
   "cell_type": "markdown",
   "metadata": {
    "_cell_guid": "42d3026d-960b-b6f8-1d14-9216360213a9",
    "_uuid": "4ef047e40f9d8d668529588c1c92717a8f551824"
   },
   "source": [
    "When we have two seemingly weak predictors, one thing we can do is combine them to get a stronger predictor. In the case of `SibSp` and `Parch`, we can combine the two variables to get a 'family size' metric, which might (and in fact does) prove to be a better predictor than the two original variables. "
   ]
  },
  {
   "cell_type": "markdown",
   "metadata": {
    "_cell_guid": "c713d10e-7b0c-069b-dd6c-81a78a8e4494",
    "_uuid": "f37ae65713cfd6f5ac5ee317244e87cf27097c6a"
   },
   "source": [
    "## Ticket  \n",
    "\n",
    "The `Ticket` column seems to contain unique alphanumeric values, and is thus not very useful on its own. However, we might be able to extract come predictive power from it. "
   ]
  },
  {
   "cell_type": "code",
   "execution_count": 23,
   "metadata": {
    "_cell_guid": "cff6f21f-eac4-5a31-69a8-763f2bed82f8",
    "_uuid": "0fc1e99682949575a2c2357cab9a319db6f2de16"
   },
   "outputs": [
    {
     "data": {
      "text/plain": [
       "0           A/5 21171\n",
       "1            PC 17599\n",
       "2    STON/O2. 3101282\n",
       "3              113803\n",
       "4              373450\n",
       "5              330877\n",
       "6               17463\n",
       "7              349909\n",
       "8              347742\n",
       "9              237736\n",
       "Name: Ticket, dtype: object"
      ]
     },
     "execution_count": 23,
     "metadata": {},
     "output_type": "execute_result"
    }
   ],
   "source": [
    "train['Ticket'].head(n=10)"
   ]
  },
  {
   "cell_type": "markdown",
   "metadata": {
    "_cell_guid": "b5bae856-93d4-ad8c-8a28-162ef1439cb3",
    "_uuid": "390052ce7d5f158a92b0cb08f1fd7d47cec29113"
   },
   "source": [
    "One piece of potentially useful informatin is the number of characters in the `Ticket` column. This could be a reflection of the 'type' of ticket a given passenger had, which could somehow indicate their chances of survival. One theory (which may in fact be verifiable) is that some characteristic of the ticket could indicate the location of the passenger's room, which might be a crucial factor in their escape route, and consequently their survival."
   ]
  },
  {
   "cell_type": "code",
   "execution_count": 24,
   "metadata": {
    "_cell_guid": "7db4391f-ce6e-772b-3198-65e27213e592",
    "_uuid": "d123b64caec119184db165ebb70a155f43fa196d",
    "collapsed": true
   },
   "outputs": [],
   "source": [
    "train['Ticket_Len'] = train['Ticket'].apply(lambda x: len(x))"
   ]
  },
  {
   "cell_type": "code",
   "execution_count": 25,
   "metadata": {
    "_cell_guid": "12a703ce-f20e-5ca1-6944-cc5acac43e8b",
    "_uuid": "ff88e6879981328c7361f5d0cd72d7b6f1ceeca4"
   },
   "outputs": [
    {
     "data": {
      "text/plain": [
       "6     419\n",
       "5     131\n",
       "4     101\n",
       "8      76\n",
       "10     41\n",
       "7      27\n",
       "9      26\n",
       "17     14\n",
       "16     11\n",
       "13     10\n",
       "12     10\n",
       "15      9\n",
       "11      8\n",
       "18      6\n",
       "3       2\n",
       "Name: Ticket_Len, dtype: int64"
      ]
     },
     "execution_count": 25,
     "metadata": {},
     "output_type": "execute_result"
    }
   ],
   "source": [
    "train['Ticket_Len'].value_counts()"
   ]
  },
  {
   "cell_type": "markdown",
   "metadata": {
    "_cell_guid": "b45bcff9-5d4f-9ed4-c1c9-269f0babdf81",
    "_uuid": "0d4b03226bcb85d683b8655d561d24d5511db48e"
   },
   "source": [
    "Another piece of information is the first letter of each ticket, which, again, might be indicative of a certain attribute of the ticketholders or their rooms."
   ]
  },
  {
   "cell_type": "code",
   "execution_count": 26,
   "metadata": {
    "_cell_guid": "c74ea040-ca66-1e8c-de46-bb96b9d2d61d",
    "_uuid": "3b034e999dbc51f66aefbe52ccc735a12dd6ad42",
    "collapsed": true
   },
   "outputs": [],
   "source": [
    "train['Ticket_Lett'] = train['Ticket'].apply(lambda x: str(x)[0])"
   ]
  },
  {
   "cell_type": "code",
   "execution_count": 27,
   "metadata": {
    "_cell_guid": "9e370470-2049-19e5-6c86-003e4f8fd48f",
    "_uuid": "e6ad4f18e8cb542daf0f45fe07eb22742d19ac8f"
   },
   "outputs": [
    {
     "data": {
      "text/plain": [
       "3    301\n",
       "2    183\n",
       "1    146\n",
       "P     65\n",
       "S     65\n",
       "C     47\n",
       "A     29\n",
       "W     13\n",
       "4     10\n",
       "7      9\n",
       "F      7\n",
       "6      6\n",
       "L      4\n",
       "5      3\n",
       "8      2\n",
       "9      1\n",
       "Name: Ticket_Lett, dtype: int64"
      ]
     },
     "execution_count": 27,
     "metadata": {},
     "output_type": "execute_result"
    }
   ],
   "source": [
    "train['Ticket_Lett'].value_counts()"
   ]
  },
  {
   "cell_type": "code",
   "execution_count": 28,
   "metadata": {
    "_cell_guid": "e5881afe-f799-7dc3-9b35-07392186b3c1",
    "_uuid": "3d1a11900b48d027e8e8b4779ea35c70311472fe"
   },
   "outputs": [
    {
     "data": {
      "text/plain": [
       "Ticket_Lett\n",
       "1    0.630137\n",
       "2    0.464481\n",
       "3    0.239203\n",
       "4    0.200000\n",
       "5    0.000000\n",
       "6    0.166667\n",
       "7    0.111111\n",
       "8    0.000000\n",
       "9    1.000000\n",
       "A    0.068966\n",
       "C    0.340426\n",
       "F    0.571429\n",
       "L    0.250000\n",
       "P    0.646154\n",
       "S    0.323077\n",
       "W    0.153846\n",
       "Name: Survived, dtype: float64"
      ]
     },
     "execution_count": 28,
     "metadata": {},
     "output_type": "execute_result"
    }
   ],
   "source": [
    "train.groupby(['Ticket_Lett'])['Survived'].mean()"
   ]
  },
  {
   "cell_type": "markdown",
   "metadata": {
    "_cell_guid": "ce75600a-6266-5e8c-ec80-da481b82529f",
    "_uuid": "cfdbd7f9012b613266f2da67635a5170e01e8447"
   },
   "source": [
    "## Fare\n",
    "\n",
    "There is a clear relationship between `Fare` and `Survived`, and I'm guessing that this relationship is similar to that of `Class` and `Survived`."
   ]
  },
  {
   "cell_type": "code",
   "execution_count": 29,
   "metadata": {
    "_cell_guid": "e058171b-981e-6d8d-2d2a-68db6927cdde",
    "_uuid": "07ffe8b79c776364478273a5d1b9f7ae47e0e191"
   },
   "outputs": [
    {
     "data": {
      "text/plain": [
       "(-0.001, 8.662]    308\n",
       "(26.0, 512.329]    295\n",
       "(8.662, 26.0]      288\n",
       "Name: Fare, dtype: int64"
      ]
     },
     "execution_count": 29,
     "metadata": {},
     "output_type": "execute_result"
    }
   ],
   "source": [
    "pd.qcut(train['Fare'], 3).value_counts()"
   ]
  },
  {
   "cell_type": "code",
   "execution_count": 30,
   "metadata": {
    "_cell_guid": "00ea0b0f-717d-7a9a-160d-400f6d91e958",
    "_uuid": "f6f68b70c1acab7aaa01e74b39d8defc1174c747"
   },
   "outputs": [
    {
     "data": {
      "text/plain": [
       "Fare\n",
       "(-0.001, 8.662]    0.198052\n",
       "(8.662, 26.0]      0.402778\n",
       "(26.0, 512.329]    0.559322\n",
       "Name: Survived, dtype: float64"
      ]
     },
     "execution_count": 30,
     "metadata": {},
     "output_type": "execute_result"
    }
   ],
   "source": [
    "train['Survived'].groupby(pd.qcut(train['Fare'], 3)).mean()"
   ]
  },
  {
   "cell_type": "markdown",
   "metadata": {
    "_cell_guid": "7398ba56-3205-a985-33e9-cf4eab5a437a",
    "_uuid": "508ad545194db20665616ceff17ae38da3738350"
   },
   "source": [
    "Looking at the relationship between `Class` and `Fare`, we do indeed see a clear relationship. "
   ]
  },
  {
   "cell_type": "code",
   "execution_count": 31,
   "metadata": {
    "_cell_guid": "5da95a24-a108-fc18-100e-642d64cf4d60",
    "_uuid": "063a0fb680c44f083ddf486e3d10ff286c00e54f"
   },
   "outputs": [
    {
     "data": {
      "text/html": [
       "<div>\n",
       "<style scoped>\n",
       "    .dataframe tbody tr th:only-of-type {\n",
       "        vertical-align: middle;\n",
       "    }\n",
       "\n",
       "    .dataframe tbody tr th {\n",
       "        vertical-align: top;\n",
       "    }\n",
       "\n",
       "    .dataframe thead th {\n",
       "        text-align: right;\n",
       "    }\n",
       "</style>\n",
       "<table border=\"1\" class=\"dataframe\">\n",
       "  <thead>\n",
       "    <tr style=\"text-align: right;\">\n",
       "      <th>Pclass</th>\n",
       "      <th>1</th>\n",
       "      <th>2</th>\n",
       "      <th>3</th>\n",
       "    </tr>\n",
       "    <tr>\n",
       "      <th>Fare</th>\n",
       "      <th></th>\n",
       "      <th></th>\n",
       "      <th></th>\n",
       "    </tr>\n",
       "  </thead>\n",
       "  <tbody>\n",
       "    <tr>\n",
       "      <th>(-0.001, 7.854]</th>\n",
       "      <td>6</td>\n",
       "      <td>6</td>\n",
       "      <td>167</td>\n",
       "    </tr>\n",
       "    <tr>\n",
       "      <th>(7.854, 10.5]</th>\n",
       "      <td>0</td>\n",
       "      <td>24</td>\n",
       "      <td>160</td>\n",
       "    </tr>\n",
       "    <tr>\n",
       "      <th>(10.5, 21.679]</th>\n",
       "      <td>0</td>\n",
       "      <td>80</td>\n",
       "      <td>92</td>\n",
       "    </tr>\n",
       "    <tr>\n",
       "      <th>(21.679, 39.688]</th>\n",
       "      <td>64</td>\n",
       "      <td>64</td>\n",
       "      <td>52</td>\n",
       "    </tr>\n",
       "    <tr>\n",
       "      <th>(39.688, 512.329]</th>\n",
       "      <td>146</td>\n",
       "      <td>10</td>\n",
       "      <td>20</td>\n",
       "    </tr>\n",
       "  </tbody>\n",
       "</table>\n",
       "</div>"
      ],
      "text/plain": [
       "Pclass               1   2    3\n",
       "Fare                           \n",
       "(-0.001, 7.854]      6   6  167\n",
       "(7.854, 10.5]        0  24  160\n",
       "(10.5, 21.679]       0  80   92\n",
       "(21.679, 39.688]    64  64   52\n",
       "(39.688, 512.329]  146  10   20"
      ]
     },
     "execution_count": 31,
     "metadata": {},
     "output_type": "execute_result"
    }
   ],
   "source": [
    "pd.crosstab(pd.qcut(train['Fare'], 5), columns=train['Pclass'])"
   ]
  },
  {
   "cell_type": "markdown",
   "metadata": {
    "_cell_guid": "d74c58ef-5514-2ef0-ec3e-bf596a6303ad",
    "_uuid": "6d3ed0b266abf957f972b2cb99d54eeaadebaf71"
   },
   "source": [
    "## Cabin\n",
    "\n",
    "This column has the most nulls (almost 700), but we can still extract information from it, like the first letter of each cabin, or the cabin number. The usefulness of this column might be similar to that of the `Ticket` variable."
   ]
  },
  {
   "cell_type": "markdown",
   "metadata": {
    "_cell_guid": "6f4c5e5a-1c2d-d329-e53e-5d51184c7131",
    "_uuid": "a4e807675953c84c4e269ae9258728e5089c10b9"
   },
   "source": [
    "#### Cabin Letter"
   ]
  },
  {
   "cell_type": "markdown",
   "metadata": {
    "_cell_guid": "e4f0ae6a-70cd-a00e-9ec6-d2c403712d66",
    "_uuid": "91968374b5837a65fb05f161efe212bf8b11bd30"
   },
   "source": [
    "We can see that most of the cabin letters are associated with a high survival rate, so this might very well be a useful variable. Because there aren't that many unique values, we won't do any grouping here, even if some of the values have a small count."
   ]
  },
  {
   "cell_type": "code",
   "execution_count": 32,
   "metadata": {
    "_cell_guid": "bfea2088-94b1-5114-7db7-c2d5959d692e",
    "_uuid": "eb2303b0b6da4e32054336697e5baba3dfe11dca",
    "collapsed": true
   },
   "outputs": [],
   "source": [
    "train['Cabin_Letter'] = train['Cabin'].apply(lambda x: str(x)[0])"
   ]
  },
  {
   "cell_type": "code",
   "execution_count": 33,
   "metadata": {
    "_cell_guid": "8b17c8f7-c698-6b30-5bf9-c7ee346da0f0",
    "_uuid": "c16d6d94c445d40386aea54663128b8cd9e05488"
   },
   "outputs": [
    {
     "data": {
      "text/plain": [
       "n    687\n",
       "C     59\n",
       "B     47\n",
       "D     33\n",
       "E     32\n",
       "A     15\n",
       "F     13\n",
       "G      4\n",
       "T      1\n",
       "Name: Cabin_Letter, dtype: int64"
      ]
     },
     "execution_count": 33,
     "metadata": {},
     "output_type": "execute_result"
    }
   ],
   "source": [
    "train['Cabin_Letter'].value_counts()"
   ]
  },
  {
   "cell_type": "code",
   "execution_count": 34,
   "metadata": {
    "_cell_guid": "5111cc8b-8bc1-e38a-c97b-d2284c317c32",
    "_uuid": "6ec820db4b99f394b5da2acf6e2ec461968396ae"
   },
   "outputs": [
    {
     "data": {
      "text/plain": [
       "Cabin_Letter\n",
       "A    0.466667\n",
       "B    0.744681\n",
       "C    0.593220\n",
       "D    0.757576\n",
       "E    0.750000\n",
       "F    0.615385\n",
       "G    0.500000\n",
       "T    0.000000\n",
       "n    0.299854\n",
       "Name: Survived, dtype: float64"
      ]
     },
     "execution_count": 34,
     "metadata": {},
     "output_type": "execute_result"
    }
   ],
   "source": [
    "train['Survived'].groupby(train['Cabin_Letter']).mean()"
   ]
  },
  {
   "cell_type": "markdown",
   "metadata": {
    "_cell_guid": "c9ee4b12-2cf9-c65e-1577-a220a63b7c6f",
    "_uuid": "9464cdc8b1d071c3724c39e850ec572d6905ffae"
   },
   "source": [
    "#### Cabin Number\n",
    "\n",
    "Upon first glance, this appears to be useless. Not only do we have ~700 nulls which will be difficult to impute, but the correlation with `Survived` is almost zero. However, the cabin numbers as a whole do seem to have a high surival rate compared to the population average, so we might want to keep this just in case for now."
   ]
  },
  {
   "cell_type": "code",
   "execution_count": 35,
   "metadata": {
    "_cell_guid": "af8a788d-bff7-368f-d99a-f437813f597c",
    "_uuid": "71d3caae868a5af7dbb49c231ffa2714665ea116",
    "collapsed": true
   },
   "outputs": [],
   "source": [
    "train['Cabin_num'] = train['Cabin'].apply(lambda x: str(x).split(' ')[-1][1:])\n",
    "train['Cabin_num'].replace('an', np.NaN, inplace = True)\n",
    "train['Cabin_num'] = train['Cabin_num'].apply(lambda x: int(x) if not pd.isnull(x) and x != '' else np.NaN)"
   ]
  },
  {
   "cell_type": "code",
   "execution_count": 36,
   "metadata": {
    "_cell_guid": "9b171c93-e78f-7f5a-553b-2b59f7ee5b33",
    "_uuid": "604ec450b80ea2de99a181ff29b9eae436fd8088"
   },
   "outputs": [
    {
     "data": {
      "text/plain": [
       "(65.667, 148.0]     67\n",
       "(1.999, 28.667]     67\n",
       "(28.667, 65.667]    66\n",
       "Name: Cabin_num, dtype: int64"
      ]
     },
     "execution_count": 36,
     "metadata": {},
     "output_type": "execute_result"
    }
   ],
   "source": [
    "pd.qcut(train['Cabin_num'],3).value_counts()"
   ]
  },
  {
   "cell_type": "code",
   "execution_count": 37,
   "metadata": {
    "_cell_guid": "c8127630-c7b8-83ca-87be-06be190bcc3b",
    "_uuid": "0bb917896a2857b008df33520f7be9f3fba304de"
   },
   "outputs": [
    {
     "data": {
      "text/plain": [
       "Cabin_num\n",
       "(1.999, 28.667]     0.716418\n",
       "(28.667, 65.667]    0.651515\n",
       "(65.667, 148.0]     0.641791\n",
       "Name: Survived, dtype: float64"
      ]
     },
     "execution_count": 37,
     "metadata": {},
     "output_type": "execute_result"
    }
   ],
   "source": [
    "train['Survived'].groupby(pd.qcut(train['Cabin_num'], 3)).mean()"
   ]
  },
  {
   "cell_type": "code",
   "execution_count": 38,
   "metadata": {
    "_cell_guid": "3e756b5c-7585-ee05-c6d8-1648b2c1e236",
    "_uuid": "b406e72736cc8870688a0b88e1120b602b40200b"
   },
   "outputs": [
    {
     "data": {
      "text/plain": [
       "-0.06384595922789371"
      ]
     },
     "execution_count": 38,
     "metadata": {},
     "output_type": "execute_result"
    }
   ],
   "source": [
    "train['Survived'].corr(train['Cabin_num'])"
   ]
  },
  {
   "cell_type": "markdown",
   "metadata": {
    "_cell_guid": "2b789c07-4636-d70d-90f2-611dfe5b88ee",
    "_uuid": "cd788481b91dadbd79c331ecf1db0b3c65542ea5"
   },
   "source": [
    "## Embarked\n",
    "\n",
    "Looks like the Cherbourg people had a 20% higher survival rate than the other embarking locations. This is very likely due to the high presence of upper-class passengers from that location."
   ]
  },
  {
   "cell_type": "code",
   "execution_count": 39,
   "metadata": {
    "_cell_guid": "b1c95a03-af39-40c6-9957-9eef707a44df",
    "_uuid": "415aa4f20d225c2ae5d03cc48df98fa03ab750be"
   },
   "outputs": [
    {
     "data": {
      "text/plain": [
       "S    644\n",
       "C    168\n",
       "Q     77\n",
       "Name: Embarked, dtype: int64"
      ]
     },
     "execution_count": 39,
     "metadata": {},
     "output_type": "execute_result"
    }
   ],
   "source": [
    "train['Embarked'].value_counts()"
   ]
  },
  {
   "cell_type": "code",
   "execution_count": 40,
   "metadata": {
    "_cell_guid": "aa64e145-e914-2e5d-1768-723e779022d3",
    "_uuid": "73ec1a351e999a3825416851eb7013a9a5bef417"
   },
   "outputs": [
    {
     "data": {
      "text/plain": [
       "S    0.724409\n",
       "C    0.188976\n",
       "Q    0.086614\n",
       "Name: Embarked, dtype: float64"
      ]
     },
     "execution_count": 40,
     "metadata": {},
     "output_type": "execute_result"
    }
   ],
   "source": [
    "train['Embarked'].value_counts(normalize=True)"
   ]
  },
  {
   "cell_type": "code",
   "execution_count": 41,
   "metadata": {
    "_cell_guid": "96505069-43d7-eaeb-d1ac-3433411fa415",
    "_uuid": "313c36c5f561ed0e917da64f502d7f67347a5d51"
   },
   "outputs": [
    {
     "data": {
      "text/plain": [
       "Embarked\n",
       "C    0.553571\n",
       "Q    0.389610\n",
       "S    0.336957\n",
       "Name: Survived, dtype: float64"
      ]
     },
     "execution_count": 41,
     "metadata": {},
     "output_type": "execute_result"
    }
   ],
   "source": [
    "train['Survived'].groupby(train['Embarked']).mean()"
   ]
  },
  {
   "cell_type": "code",
   "execution_count": 42,
   "metadata": {
    "_cell_guid": "2e11ef71-9cba-95f2-c6f7-0051a6a6bdcd",
    "_uuid": "3ac4ae6b5b0f0ef2c8cbf16ae50da6552dbe2008"
   },
   "outputs": [
    {
     "data": {
      "text/plain": [
       "<matplotlib.axes._subplots.AxesSubplot at 0x7f7ec7cb6be0>"
      ]
     },
     "execution_count": 42,
     "metadata": {},
     "output_type": "execute_result"
    },
    {
     "data": {
      "image/png": "[encoded data removed]",
      "text/plain": [
       "<matplotlib.figure.Figure at 0x7f7ec7cc0eb8>"
      ]
     },
     "metadata": {},
     "output_type": "display_data"
    }
   ],
   "source": [
    "sns.countplot(train['Embarked'], hue=train['Pclass'])"
   ]
  },
  {
   "cell_type": "markdown",
   "metadata": {
    "_cell_guid": "792b218a-b4c0-7a4a-2442-f375deee3581",
    "_uuid": "ac88173bac720087c0328a965bd144d4a9e8d922"
   },
   "source": [
    "### Feature Engineering"
   ]
  },
  {
   "cell_type": "markdown",
   "metadata": {
    "_cell_guid": "a69433b7-96b7-589b-4481-180206c1e5b2",
    "_uuid": "49850c5eb46978f18e9cf719798f1a2463995896"
   },
   "source": [
    "Having done our cursory exploration of the variables, we now have a pretty good idea of how we want to transform our variables in preparation for our final dataset. We will perform our feature engineering through a series of helper functions that each serve a specific purpose. "
   ]
  },
  {
   "cell_type": "markdown",
   "metadata": {
    "_cell_guid": "906a9892-fe2a-ecd9-304d-ff4e63876867",
    "_uuid": "dd10af28b3aafba6a88c491661f6784f13eb1cd7"
   },
   "source": [
    "This first function creates two separate columns: a numeric column indicating the length of a passenger's `Name` field, and a categorical column that extracts the passenger's title."
   ]
  },
  {
   "cell_type": "code",
   "execution_count": 67,
   "metadata": {
    "_cell_guid": "ada87e93-db17-8a39-0025-5aea95b8e684",
    "_uuid": "37f05b7a1a20408271130c15739ffba1996b4ad4",
    "collapsed": true
   },
   "outputs": [],
   "source": [
    "def names(train, test):\n",
    "    for i in [train, test]:\n",
    "        i['Name_Len'] = i['Name'].apply(lambda x: len(x))\n",
    "        i['Name_Title'] = i['Name'].apply(lambda x: x.split(',')[1]).apply(lambda x: x.split()[0])\n",
    "        del i['Name']\n",
    "    return train, test"
   ]
  },
  {
   "cell_type": "markdown",
   "metadata": {
    "_cell_guid": "1a9f9d8b-eded-86e5-dd3f-a88e347b5135",
    "_uuid": "06096ace26e8442ce7e3bb64914f7e1e1d29e4e8"
   },
   "source": [
    "Next, we impute the null values of the `Age` column by filling in the mean value of the passenger's corresponding title and class. This more granular approach to imputation should be more accurate than merely taking the mean age of the population."
   ]
  },
  {
   "cell_type": "code",
   "execution_count": 59,
   "metadata": {
    "_cell_guid": "8a265d21-ca70-1699-21fd-c098689026fc",
    "_uuid": "ea4e5f5ca760e6ebfd52c2fdbed4ec2215e49858",
    "collapsed": true
   },
   "outputs": [],
   "source": [
    "def age_impute(train, test):\n",
    "    for i in [train, test]:\n",
    "        i['Age_Null_Flag'] = i['Age'].apply(lambda x: 1 if pd.isnull(x) else 0)\n",
    "        data = train.groupby(['Name_Title', 'Pclass'])['Age']\n",
    "        i['Age'] = data.transform(lambda x: x.fillna(x.mean()))\n",
    "    return train, test"
   ]
  },
  {
   "cell_type": "markdown",
   "metadata": {
    "_cell_guid": "c8285f4f-4f76-6188-c8df-bef76efb3800",
    "_uuid": "7d5dd099f92db977e225fc3f4d4d3a02fabeb9ba"
   },
   "source": [
    "We combine the `SibSp` and `Parch` columns into a new variable that indicates family size, and group the family size variable into three categories."
   ]
  },
  {
   "cell_type": "code",
   "execution_count": 60,
   "metadata": {
    "_cell_guid": "3f1b5572-f9e6-0bc5-4666-ba160eb4209e",
    "_uuid": "4ddad4f1441820db07385a3e4445555dceb3e31e",
    "collapsed": true
   },
   "outputs": [],
   "source": [
    "def fam_size(train, test):\n",
    "    for i in [train, test]:\n",
    "        i['Fam_Size'] = np.where((i['SibSp']+i['Parch']) == 0 , 'Solo',\n",
    "                           np.where((i['SibSp']+i['Parch']) <= 3,'Nuclear', 'Big'))\n",
    "        del i['SibSp']\n",
    "        del i['Parch']\n",
    "    return train, test"
   ]
  },
  {
   "cell_type": "markdown",
   "metadata": {
    "_cell_guid": "14acf849-b512-9eb4-37e3-427fc887b7c2",
    "_uuid": "4f385870a6dd50dfde472c6c9e785ef6c0f8c2c8"
   },
   "source": [
    "The `Ticket` column is used to create two new columns: `Ticket_Lett`, which indicates the first letter of each ticket (with the smaller-n values being grouped based on survival rate); and `Ticket_Len`, which indicates the length of the `Ticket` field. "
   ]
  },
  {
   "cell_type": "code",
   "execution_count": 61,
   "metadata": {
    "_cell_guid": "cbba884d-50f4-1e60-05bf-ed5dfb334fb6",
    "_uuid": "01c95aed9c5f76561cebe02466961c670c4093ee",
    "collapsed": true
   },
   "outputs": [],
   "source": [
    "def ticket_grouped(train, test):\n",
    "    for i in [train, test]:\n",
    "        i['Ticket_Lett'] = i['Ticket'].apply(lambda x: str(x)[0])\n",
    "        i['Ticket_Lett'] = i['Ticket_Lett'].apply(lambda x: str(x))\n",
    "        i['Ticket_Lett'] = np.where((i['Ticket_Lett']).isin(['1', '2', '3', 'S', 'P', 'C', 'A']), i['Ticket_Lett'],\n",
    "                                   np.where((i['Ticket_Lett']).isin(['W', '4', '7', '6', 'L', '5', '8']),\n",
    "                                            'Low_ticket', 'Other_ticket'))\n",
    "        i['Ticket_Len'] = i['Ticket'].apply(lambda x: len(x))\n",
    "        del i['Ticket']\n",
    "    return train, test"
   ]
  },
  {
   "cell_type": "markdown",
   "metadata": {
    "_cell_guid": "a240a933-c6ed-63c4-7e00-1b9f4eba5c89",
    "_uuid": "6bea3c9d65f765f60e242fe9bbb3d980aecb0598"
   },
   "source": [
    "The following two functions extract the first letter of the `Cabin` column and its number, respectively. "
   ]
  },
  {
   "cell_type": "code",
   "execution_count": 62,
   "metadata": {
    "_cell_guid": "28fc2b52-9484-66d2-6032-9a58172ee9ab",
    "_uuid": "0c1e15c3e15c54192cecd7cea68023b3c42be314",
    "collapsed": true
   },
   "outputs": [],
   "source": [
    "def cabin(train, test):\n",
    "    for i in [train, test]:\n",
    "        i['Cabin_Letter'] = i['Cabin'].apply(lambda x: str(x)[0])\n",
    "        del i['Cabin']\n",
    "    return train, test"
   ]
  },
  {
   "cell_type": "code",
   "execution_count": 63,
   "metadata": {
    "_cell_guid": "ebf50fb2-9cc7-3ace-a03a-8f7d419583a9",
    "_uuid": "f19914f791e02b5e56b178a1fea63b82f76b312c",
    "collapsed": true
   },
   "outputs": [],
   "source": [
    "def cabin_num(train, test):\n",
    "    for i in [train, test]:\n",
    "        i['Cabin_num1'] = i['Cabin'].apply(lambda x: str(x).split(' ')[-1][1:])\n",
    "        i['Cabin_num1'].replace('an', np.NaN, inplace = True)\n",
    "        i['Cabin_num1'] = i['Cabin_num1'].apply(lambda x: int(x) if not pd.isnull(x) and x != '' else np.NaN)\n",
    "        i['Cabin_num'] = pd.qcut(train['Cabin_num1'],3)\n",
    "    train = pd.concat((train, pd.get_dummies(train['Cabin_num'], prefix = 'Cabin_num')), axis = 1)\n",
    "    test = pd.concat((test, pd.get_dummies(test['Cabin_num'], prefix = 'Cabin_num')), axis = 1)\n",
    "    del train['Cabin_num']\n",
    "    del test['Cabin_num']\n",
    "    del train['Cabin_num1']\n",
    "    del test['Cabin_num1']\n",
    "    return train, test"
   ]
  },
  {
   "cell_type": "markdown",
   "metadata": {
    "_cell_guid": "194fdc08-b381-5d25-ab97-575bc257e465",
    "_uuid": "718a38ebd705fb251ac72e9293503a87674b4fe7"
   },
   "source": [
    "We fill the null values in the `Embarked` column with the most commonly occuring value, which is 'S.'"
   ]
  },
  {
   "cell_type": "code",
   "execution_count": 64,
   "metadata": {
    "_cell_guid": "025fe0a4-f682-d58b-b5d8-aa1577ffd2ab",
    "_uuid": "d6b4bca289f14033dcf4fc2db0be0bafe7f9b7b4",
    "collapsed": true
   },
   "outputs": [],
   "source": [
    "def embarked_impute(train, test):\n",
    "    for i in [train, test]:\n",
    "        i['Embarked'] = i['Embarked'].fillna('S')\n",
    "    return train, test"
   ]
  },
  {
   "cell_type": "markdown",
   "metadata": {
    "_cell_guid": "215ae187-47cf-9233-c59c-25c643fef74e",
    "_uuid": "0df2062b8d733d4a11bf97207a9d72f70bfe5a77"
   },
   "source": [
    "We also fill in the one missing value of `Fare` in our test set with the mean value of `Fare` from the training set (transformations of test set data must always be fit using training data)."
   ]
  },
  {
   "cell_type": "code",
   "execution_count": 65,
   "metadata": {
    "_cell_guid": "2df1b2a7-f75c-ffa5-3bdd-636122ccb3f0",
    "_uuid": "bd6713cc20d0cc5a3a019001d4f48b4c3a16f88a",
    "collapsed": true
   },
   "outputs": [],
   "source": [
    "test['Fare'].fillna(train['Fare'].mean(), inplace = True)"
   ]
  },
  {
   "cell_type": "markdown",
   "metadata": {
    "_cell_guid": "594708ed-a233-dbbe-4f70-2d1e342ddad2",
    "_uuid": "496fbc3d6c32a18f44b3e1dea2ee9f4affb014fa"
   },
   "source": [
    "Next, because we are using scikit-learn, we must convert our categorical columns into dummy variables. The following function does this, and then it drops the original categorical columns. It also makes sure that each category is present in both the training and test datasets."
   ]
  },
  {
   "cell_type": "code",
   "execution_count": 69,
   "metadata": {
    "_cell_guid": "a0cc99a9-1536-ee17-1249-48f4471a9e11",
    "_uuid": "c68e894dd1828e6af818dd43b8a1b5ed332b89e4",
    "collapsed": true
   },
   "outputs": [],
   "source": [
    "def dummies(train, test, columns = ['Pclass', 'Sex', 'Embarked', 'Ticket_Lett', 'Cabin_Letter', 'Name_Title', 'Fam_Size']):\n",
    "    for column in columns:\n",
    "        train[column] = train[column].apply(lambda x: str(x))\n",
    "        test[column] = test[column].apply(lambda x: str(x))\n",
    "        good_cols = [column+'_'+i for i in train[column].unique() if i in test[column].unique()]\n",
    "        train = pd.concat((train, pd.get_dummies(train[column], prefix = column)[good_cols]), axis = 1)\n",
    "        test = pd.concat((test, pd.get_dummies(test[column], prefix = column)[good_cols]), axis = 1)\n",
    "        del train[column]\n",
    "        del test[column]\n",
    "    return train, test"
   ]
  },
  {
   "cell_type": "markdown",
   "metadata": {
    "_cell_guid": "c8b9d7eb-3afc-4082-f7b8-80d043c4f830",
    "_uuid": "96ac7b3a57d5a6600d3c913336dbf689a13e93af"
   },
   "source": [
    "Our last helper function drops any columns that haven't already been dropped. In our case, we only need to drop the `PassengerId` column, which we have decided is not useful for our problem (by the way, I've confirmed this with a separate test). Note that dropping the `PassengerId` column here means that we'll have to load it later when creating our submission file."
   ]
  },
  {
   "cell_type": "code",
   "execution_count": 70,
   "metadata": {
    "_cell_guid": "9680ae7e-5ae4-7c45-3ae1-0781b5f383eb",
    "_uuid": "3bf9be4a2839168b4b5693f13a91bb903886a29e",
    "collapsed": true
   },
   "outputs": [],
   "source": [
    "def drop(train, test, bye = ['PassengerId']):\n",
    "    for i in [train, test]:\n",
    "        for z in bye:\n",
    "            del i[z]\n",
    "    return train, test"
   ]
  },
  {
   "cell_type": "markdown",
   "metadata": {
    "_cell_guid": "8d1efbbb-e0dd-f3d4-acd3-ef9eb5c396e2",
    "_uuid": "437fcbc277b75c202fc79b0c6ff9e8252238a1b2"
   },
   "source": [
    "Having built our helper functions, we can now execute them in order to build our dataset that will be used in the model:a"
   ]
  },
  {
   "cell_type": "code",
   "execution_count": 72,
   "metadata": {
    "_cell_guid": "d004f91d-1c6b-e281-6e4c-45b44eadbcca",
    "_uuid": "60e831e6a14368415fdd539ecf9c8259fced6ce2"
   },
   "outputs": [],
   "source": [
    "train = pd.read_csv(os.path.join('./', 'train.csv'))\n",
    "test = pd.read_csv(os.path.join('./', 'test.csv'))\n",
    "train, test = names(train, test)\n",
    "train, test = age_impute(train, test)\n",
    "train, test = cabin_num(train, test)\n",
    "train, test = cabin(train, test)\n",
    "train, test = embarked_impute(train, test)\n",
    "train, test = fam_size(train, test)\n",
    "test['Fare'].fillna(train['Fare'].mean(), inplace = True)\n",
    "train, test = ticket_grouped(train, test)\n",
    "train, test = dummies(train, test, columns = ['Pclass', 'Sex', 'Embarked', 'Ticket_Lett',\n",
    "                                                                     'Cabin_Letter', 'Name_Title', 'Fam_Size'])\n",
    "train, test = drop(train, test)"
   ]
  },
  {
   "cell_type": "markdown",
   "metadata": {
    "_cell_guid": "35d843bc-3607-f11a-55f9-2828cf5eb91e",
    "_uuid": "0e797b04a8890d94e2954035d4817c1993e9b69c"
   },
   "source": [
    "We can see that our final dataset has 45 columns, composed of our target column and 44 predictor variables. Although highly dimensional datasets can result in high variance, I think we should be fine here. "
   ]
  },
  {
   "cell_type": "code",
   "execution_count": 76,
   "metadata": {
    "_cell_guid": "09391302-b621-4730-7589-7eb017286e7f",
    "_uuid": "96edbf3cc606906ed78df423a53432b18d663dcb"
   },
   "outputs": [
    {
     "data": {
      "text/html": [
       "<div>\n",
       "<style scoped>\n",
       "    .dataframe tbody tr th:only-of-type {\n",
       "        vertical-align: middle;\n",
       "    }\n",
       "\n",
       "    .dataframe tbody tr th {\n",
       "        vertical-align: top;\n",
       "    }\n",
       "\n",
       "    .dataframe thead th {\n",
       "        text-align: right;\n",
       "    }\n",
       "</style>\n",
       "<table border=\"1\" class=\"dataframe\">\n",
       "  <thead>\n",
       "    <tr style=\"text-align: right;\">\n",
       "      <th></th>\n",
       "      <th>Survived</th>\n",
       "      <th>Age</th>\n",
       "      <th>Fare</th>\n",
       "      <th>Name_Len</th>\n",
       "      <th>Age_Null_Flag</th>\n",
       "      <th>Cabin_num_(1.999, 28.667]</th>\n",
       "      <th>Cabin_num_(28.667, 65.667]</th>\n",
       "      <th>Cabin_num_(65.667, 148.0]</th>\n",
       "      <th>Ticket_Len</th>\n",
       "      <th>Pclass_3</th>\n",
       "      <th>...</th>\n",
       "      <th>Name_Title_Mrs.</th>\n",
       "      <th>Name_Title_Miss.</th>\n",
       "      <th>Name_Title_Master.</th>\n",
       "      <th>Name_Title_Rev.</th>\n",
       "      <th>Name_Title_Dr.</th>\n",
       "      <th>Name_Title_Ms.</th>\n",
       "      <th>Name_Title_Col.</th>\n",
       "      <th>Fam_Size_Nuclear</th>\n",
       "      <th>Fam_Size_Solo</th>\n",
       "      <th>Fam_Size_Big</th>\n",
       "    </tr>\n",
       "  </thead>\n",
       "  <tbody>\n",
       "    <tr>\n",
       "      <th>0</th>\n",
       "      <td>0</td>\n",
       "      <td>22.0</td>\n",
       "      <td>7.2500</td>\n",
       "      <td>23</td>\n",
       "      <td>0</td>\n",
       "      <td>0</td>\n",
       "      <td>0</td>\n",
       "      <td>0</td>\n",
       "      <td>9</td>\n",
       "      <td>1</td>\n",
       "      <td>...</td>\n",
       "      <td>0</td>\n",
       "      <td>0</td>\n",
       "      <td>0</td>\n",
       "      <td>0</td>\n",
       "      <td>0</td>\n",
       "      <td>0</td>\n",
       "      <td>0</td>\n",
       "      <td>1</td>\n",
       "      <td>0</td>\n",
       "      <td>0</td>\n",
       "    </tr>\n",
       "    <tr>\n",
       "      <th>1</th>\n",
       "      <td>1</td>\n",
       "      <td>38.0</td>\n",
       "      <td>71.2833</td>\n",
       "      <td>51</td>\n",
       "      <td>0</td>\n",
       "      <td>0</td>\n",
       "      <td>0</td>\n",
       "      <td>1</td>\n",
       "      <td>8</td>\n",
       "      <td>0</td>\n",
       "      <td>...</td>\n",
       "      <td>1</td>\n",
       "      <td>0</td>\n",
       "      <td>0</td>\n",
       "      <td>0</td>\n",
       "      <td>0</td>\n",
       "      <td>0</td>\n",
       "      <td>0</td>\n",
       "      <td>1</td>\n",
       "      <td>0</td>\n",
       "      <td>0</td>\n",
       "    </tr>\n",
       "    <tr>\n",
       "      <th>2</th>\n",
       "      <td>1</td>\n",
       "      <td>26.0</td>\n",
       "      <td>7.9250</td>\n",
       "      <td>22</td>\n",
       "      <td>0</td>\n",
       "      <td>0</td>\n",
       "      <td>0</td>\n",
       "      <td>0</td>\n",
       "      <td>16</td>\n",
       "      <td>1</td>\n",
       "      <td>...</td>\n",
       "      <td>0</td>\n",
       "      <td>1</td>\n",
       "      <td>0</td>\n",
       "      <td>0</td>\n",
       "      <td>0</td>\n",
       "      <td>0</td>\n",
       "      <td>0</td>\n",
       "      <td>0</td>\n",
       "      <td>1</td>\n",
       "      <td>0</td>\n",
       "    </tr>\n",
       "    <tr>\n",
       "      <th>3</th>\n",
       "      <td>1</td>\n",
       "      <td>35.0</td>\n",
       "      <td>53.1000</td>\n",
       "      <td>44</td>\n",
       "      <td>0</td>\n",
       "      <td>0</td>\n",
       "      <td>0</td>\n",
       "      <td>1</td>\n",
       "      <td>6</td>\n",
       "      <td>0</td>\n",
       "      <td>...</td>\n",
       "      <td>1</td>\n",
       "      <td>0</td>\n",
       "      <td>0</td>\n",
       "      <td>0</td>\n",
       "      <td>0</td>\n",
       "      <td>0</td>\n",
       "      <td>0</td>\n",
       "      <td>1</td>\n",
       "      <td>0</td>\n",
       "      <td>0</td>\n",
       "    </tr>\n",
       "    <tr>\n",
       "      <th>4</th>\n",
       "      <td>0</td>\n",
       "      <td>35.0</td>\n",
       "      <td>8.0500</td>\n",
       "      <td>24</td>\n",
       "      <td>0</td>\n",
       "      <td>0</td>\n",
       "      <td>0</td>\n",
       "      <td>0</td>\n",
       "      <td>6</td>\n",
       "      <td>1</td>\n",
       "      <td>...</td>\n",
       "      <td>0</td>\n",
       "      <td>0</td>\n",
       "      <td>0</td>\n",
       "      <td>0</td>\n",
       "      <td>0</td>\n",
       "      <td>0</td>\n",
       "      <td>0</td>\n",
       "      <td>0</td>\n",
       "      <td>1</td>\n",
       "      <td>0</td>\n",
       "    </tr>\n",
       "  </tbody>\n",
       "</table>\n",
       "<p>5 rows × 45 columns</p>\n",
       "</div>"
      ],
      "text/plain": [
       "   Survived   Age     Fare  Name_Len  Age_Null_Flag  \\\n",
       "0         0  22.0   7.2500        23              0   \n",
       "1         1  38.0  71.2833        51              0   \n",
       "2         1  26.0   7.9250        22              0   \n",
       "3         1  35.0  53.1000        44              0   \n",
       "4         0  35.0   8.0500        24              0   \n",
       "\n",
       "   Cabin_num_(1.999, 28.667]  Cabin_num_(28.667, 65.667]  \\\n",
       "0                          0                           0   \n",
       "1                          0                           0   \n",
       "2                          0                           0   \n",
       "3                          0                           0   \n",
       "4                          0                           0   \n",
       "\n",
       "   Cabin_num_(65.667, 148.0]  Ticket_Len  Pclass_3      ...       \\\n",
       "0                          0           9         1      ...        \n",
       "1                          1           8         0      ...        \n",
       "2                          0          16         1      ...        \n",
       "3                          1           6         0      ...        \n",
       "4                          0           6         1      ...        \n",
       "\n",
       "   Name_Title_Mrs.  Name_Title_Miss.  Name_Title_Master.  Name_Title_Rev.  \\\n",
       "0                0                 0                   0                0   \n",
       "1                1                 0                   0                0   \n",
       "2                0                 1                   0                0   \n",
       "3                1                 0                   0                0   \n",
       "4                0                 0                   0                0   \n",
       "\n",
       "   Name_Title_Dr.  Name_Title_Ms.  Name_Title_Col.  Fam_Size_Nuclear  \\\n",
       "0               0               0                0                 1   \n",
       "1               0               0                0                 1   \n",
       "2               0               0                0                 0   \n",
       "3               0               0                0                 1   \n",
       "4               0               0                0                 0   \n",
       "\n",
       "   Fam_Size_Solo  Fam_Size_Big  \n",
       "0              0             0  \n",
       "1              0             0  \n",
       "2              1             0  \n",
       "3              0             0  \n",
       "4              1             0  \n",
       "\n",
       "[5 rows x 45 columns]"
      ]
     },
     "execution_count": 76,
     "metadata": {},
     "output_type": "execute_result"
    }
   ],
   "source": [
    "train.head()"
   ]
  },
  {
   "cell_type": "markdown",
   "metadata": {
    "_cell_guid": "1066e65e-e578-e896-5c38-1457a947ec6f",
    "_uuid": "62eb8fed7ba0782d4046cd1092f039b4a6ad1fa8"
   },
   "source": [
    "### Hyperparameter Tuning"
   ]
  },
  {
   "cell_type": "markdown",
   "metadata": {
    "_cell_guid": "32b4e910-cbe5-04c6-4383-c6f02483e595",
    "_uuid": "394afffe9675235fbcf7fd6dd52c7f2e03745663"
   },
   "source": [
    "We will use grid search to identify the optimal parameters of our random forest model. Because our training dataset is quite small, we can get away with testing a wider range of hyperparameter values. When I ran this on my 8 GB Windows machine, the process took less than ten minutes. I will not run it here for the sake of saving myself time, but I will discuss the results of this grid search."
   ]
  },
  {
   "cell_type": "markdown",
   "metadata": {
    "_cell_guid": "7f6c54fa-033e-075f-0e86-c9c0b469a03b",
    "_uuid": "53ebd55104d10b2b5fa2040a22821b8b6b9a3436"
   },
   "source": [
    "from sklearn.model_selection import GridSearchCV  \n",
    "from sklearn.ensemble import RandomForestClassifier\n",
    "\n",
    "rf = RandomForestClassifier(max_features='auto',\n",
    "                                oob_score=True,\n",
    "                                random_state=1,\n",
    "                                n_jobs=-1)\n",
    "\n",
    "param_grid = { \"criterion\"   : [\"gini\", \"entropy\"],\n",
    "             \"min_samples_leaf\" : [1, 5, 10],\n",
    "             \"min_samples_split\" : [2, 4, 10, 12, 16],\n",
    "             \"n_estimators\": [50, 100, 400, 700, 1000]}\n",
    "\n",
    "gs = GridSearchCV(estimator=rf,\n",
    "                  param_grid=param_grid,\n",
    "                  scoring='accuracy',\n",
    "                  cv=3,\n",
    "                  n_jobs=-1)\n",
    "\n",
    "gs = gs.fit(train.iloc[:, 1:], train.iloc[:, 0])\n",
    "\n",
    "print(gs.best_score_)   \n",
    "print(gs.best_params_)  \n",
    "print(gs.cv_results_)"
   ]
  },
  {
   "cell_type": "markdown",
   "metadata": {
    "_cell_guid": "11038f38-44d4-0cbd-328b-1ad7196819fe",
    "_uuid": "ffa2ea48cd54d2ad517b8b2ff4252fb84671ef24"
   },
   "source": [
    "Looking at the results of the grid search:  \n",
    "\n",
    "0.838383838384  \n",
    "{'min_samples_split': 10, 'n_estimators': 700, 'criterion': 'gini', 'min_samples_leaf': 1}  \n",
    "\n",
    "...we can see that our optimal parameter settings are not at the endpoints of our provided values, meaning that we do not have to test more values. What else can we say about our optimal values? The `min_samples_split` parameter is at 10, which should help mitigate overfitting to a certain degree. This is especially good because we have a relatively large number of estimators (700), which could potentially increase our generalization error."
   ]
  },
  {
   "cell_type": "markdown",
   "metadata": {
    "_cell_guid": "c95a0ff7-0f68-7e28-0c9c-36a52808f578",
    "_uuid": "03e7df4d10237f2e7ad5f85763a188fd85657a57"
   },
   "source": [
    "### Model Estimation and Evaluation<a name=\"model\"></a>"
   ]
  },
  {
   "cell_type": "markdown",
   "metadata": {
    "_cell_guid": "e494ad2b-92e3-782f-13c1-f53a86602298",
    "_uuid": "672048062680ba9e748e081a9872ed4c941e6498"
   },
   "source": [
    "We are now ready to fit our model using the optimal hyperparameters. The out-of-bag score can give us an unbiased estimate of the model accuracy, and we can see that the score is 82.94%, which is only a little higher than our final leaderboard score."
   ]
  },
  {
   "cell_type": "code",
   "execution_count": 55,
   "metadata": {
    "_cell_guid": "5593980a-4145-9594-299c-f4d1a9f01970",
    "_uuid": "1d51fc59ee05534001da74ec331beef153a07844"
   },
   "outputs": [
    {
     "name": "stdout",
     "output_type": "stream",
     "text": [
      "0.8294\n"
     ]
    }
   ],
   "source": [
    "from sklearn.ensemble import RandomForestClassifier\n",
    "\n",
    "rf = RandomForestClassifier(criterion='gini', \n",
    "                             n_estimators=700,\n",
    "                             min_samples_split=10,\n",
    "                             min_samples_leaf=1,\n",
    "                             max_features='auto',\n",
    "                             oob_score=True,\n",
    "                             random_state=1,\n",
    "                             n_jobs=-1)\n",
    "rf.fit(train.iloc[:, 1:], train.iloc[:, 0])\n",
    "print(\"%.4f\" % rf.oob_score_)"
   ]
  },
  {
   "cell_type": "markdown",
   "metadata": {
    "_cell_guid": "4b44766d-6974-b7f3-b801-eb5d9423ae49",
    "_uuid": "95b00ef44d178c0bfbb94989b78793d97ada3375"
   },
   "source": [
    "Let's take a brief look at our variable importance according to our random forest model. We can see that some of the original columns we predicted would be important in fact were, including gender, fare, and age. But we also see title, name length, and ticket length feature prominently, so we can pat ourselves on the back for creating such useful variables."
   ]
  },
  {
   "cell_type": "code",
   "execution_count": 56,
   "metadata": {
    "_cell_guid": "d77e221b-352d-8669-05d9-f7defce05709",
    "_uuid": "a1c9d2d144a872fcc3c64744c75e5ac267dc69a8"
   },
   "outputs": [
    {
     "data": {
      "text/html": [
       "<div>\n",
       "<style>\n",
       "    .dataframe thead tr:only-child th {\n",
       "        text-align: right;\n",
       "    }\n",
       "\n",
       "    .dataframe thead th {\n",
       "        text-align: left;\n",
       "    }\n",
       "\n",
       "    .dataframe tbody tr th {\n",
       "        vertical-align: top;\n",
       "    }\n",
       "</style>\n",
       "<table border=\"1\" class=\"dataframe\">\n",
       "  <thead>\n",
       "    <tr style=\"text-align: right;\">\n",
       "      <th></th>\n",
       "      <th>variable</th>\n",
       "      <th>importance</th>\n",
       "    </tr>\n",
       "  </thead>\n",
       "  <tbody>\n",
       "    <tr>\n",
       "      <th>12</th>\n",
       "      <td>Sex_female</td>\n",
       "      <td>0.111215</td>\n",
       "    </tr>\n",
       "    <tr>\n",
       "      <th>11</th>\n",
       "      <td>Sex_male</td>\n",
       "      <td>0.109769</td>\n",
       "    </tr>\n",
       "    <tr>\n",
       "      <th>33</th>\n",
       "      <td>Name_Title_Mr.</td>\n",
       "      <td>0.109746</td>\n",
       "    </tr>\n",
       "    <tr>\n",
       "      <th>1</th>\n",
       "      <td>Fare</td>\n",
       "      <td>0.088209</td>\n",
       "    </tr>\n",
       "    <tr>\n",
       "      <th>2</th>\n",
       "      <td>Name_Len</td>\n",
       "      <td>0.087904</td>\n",
       "    </tr>\n",
       "    <tr>\n",
       "      <th>0</th>\n",
       "      <td>Age</td>\n",
       "      <td>0.078651</td>\n",
       "    </tr>\n",
       "    <tr>\n",
       "      <th>8</th>\n",
       "      <td>Pclass_3</td>\n",
       "      <td>0.043268</td>\n",
       "    </tr>\n",
       "    <tr>\n",
       "      <th>35</th>\n",
       "      <td>Name_Title_Miss.</td>\n",
       "      <td>0.031292</td>\n",
       "    </tr>\n",
       "    <tr>\n",
       "      <th>7</th>\n",
       "      <td>Ticket_Len</td>\n",
       "      <td>0.031079</td>\n",
       "    </tr>\n",
       "    <tr>\n",
       "      <th>34</th>\n",
       "      <td>Name_Title_Mrs.</td>\n",
       "      <td>0.028852</td>\n",
       "    </tr>\n",
       "    <tr>\n",
       "      <th>25</th>\n",
       "      <td>Cabin_Letter_n</td>\n",
       "      <td>0.027893</td>\n",
       "    </tr>\n",
       "    <tr>\n",
       "      <th>43</th>\n",
       "      <td>Fam_Size_Big</td>\n",
       "      <td>0.025199</td>\n",
       "    </tr>\n",
       "    <tr>\n",
       "      <th>41</th>\n",
       "      <td>Fam_Size_Nuclear</td>\n",
       "      <td>0.022704</td>\n",
       "    </tr>\n",
       "    <tr>\n",
       "      <th>9</th>\n",
       "      <td>Pclass_1</td>\n",
       "      <td>0.021810</td>\n",
       "    </tr>\n",
       "    <tr>\n",
       "      <th>19</th>\n",
       "      <td>Ticket_Lett_1</td>\n",
       "      <td>0.017999</td>\n",
       "    </tr>\n",
       "    <tr>\n",
       "      <th>20</th>\n",
       "      <td>Ticket_Lett_3</td>\n",
       "      <td>0.012902</td>\n",
       "    </tr>\n",
       "    <tr>\n",
       "      <th>10</th>\n",
       "      <td>Pclass_2</td>\n",
       "      <td>0.012345</td>\n",
       "    </tr>\n",
       "    <tr>\n",
       "      <th>36</th>\n",
       "      <td>Name_Title_Master.</td>\n",
       "      <td>0.012098</td>\n",
       "    </tr>\n",
       "    <tr>\n",
       "      <th>23</th>\n",
       "      <td>Ticket_Lett_Low_ticket</td>\n",
       "      <td>0.011723</td>\n",
       "    </tr>\n",
       "    <tr>\n",
       "      <th>13</th>\n",
       "      <td>Embarked_S</td>\n",
       "      <td>0.011546</td>\n",
       "    </tr>\n",
       "  </tbody>\n",
       "</table>\n",
       "</div>"
      ],
      "text/plain": [
       "                  variable  importance\n",
       "12              Sex_female    0.111215\n",
       "11                Sex_male    0.109769\n",
       "33          Name_Title_Mr.    0.109746\n",
       "1                     Fare    0.088209\n",
       "2                 Name_Len    0.087904\n",
       "0                      Age    0.078651\n",
       "8                 Pclass_3    0.043268\n",
       "35        Name_Title_Miss.    0.031292\n",
       "7               Ticket_Len    0.031079\n",
       "34         Name_Title_Mrs.    0.028852\n",
       "25          Cabin_Letter_n    0.027893\n",
       "43            Fam_Size_Big    0.025199\n",
       "41        Fam_Size_Nuclear    0.022704\n",
       "9                 Pclass_1    0.021810\n",
       "19           Ticket_Lett_1    0.017999\n",
       "20           Ticket_Lett_3    0.012902\n",
       "10                Pclass_2    0.012345\n",
       "36      Name_Title_Master.    0.012098\n",
       "23  Ticket_Lett_Low_ticket    0.011723\n",
       "13              Embarked_S    0.011546"
      ]
     },
     "execution_count": 56,
     "metadata": {},
     "output_type": "execute_result"
    }
   ],
   "source": [
    "pd.concat((pd.DataFrame(train.iloc[:, 1:].columns, columns = ['variable']), \n",
    "           pd.DataFrame(rf.feature_importances_, columns = ['importance'])), \n",
    "          axis = 1).sort_values(by='importance', ascending = False)[:20]"
   ]
  },
  {
   "cell_type": "markdown",
   "metadata": {
    "_cell_guid": "f4fbf72d-a7b6-1d14-73cb-7f763d291272",
    "_uuid": "8a0bb67d41b7b6ae8436e486e7f4781fa40c78ba"
   },
   "source": [
    "Our last step is to predict the target variable for our test data and generate an output file that will be submitted to Kaggle. "
   ]
  },
  {
   "cell_type": "code",
   "execution_count": 57,
   "metadata": {
    "_cell_guid": "14dc0e66-9fc4-86bf-8927-46d366d4bbcf",
    "_uuid": "34db0b371a7e881f19ac04267eb3f3536bb1ca0e",
    "collapsed": true
   },
   "outputs": [],
   "source": [
    "predictions = rf.predict(test)\n",
    "predictions = pd.DataFrame(predictions, columns=['Survived'])\n",
    "test = pd.read_csv(os.path.join('../input', 'test.csv'))\n",
    "predictions = pd.concat((test.iloc[:, 0], predictions), axis = 1)\n",
    "predictions.to_csv('y_test15.csv', sep=\",\", index = False)"
   ]
  },
  {
   "cell_type": "markdown",
   "metadata": {
    "_cell_guid": "ae3dcb9e-8e70-956a-a0eb-a5aa1f188a99",
    "_uuid": "d549702c3c20c2c871f942648cc57934bda65caa"
   },
   "source": [
    "## Conclusion\n",
    "\n",
    "This exercise is a good example of how far basic feature engineering can take you. It is worth mentioning that I did try various other models before arriving at this one. Some of the other variations I tried were different groupings for the categorical variables (plenty more combinations remain), linear discriminant analysis on a couple numeric columns, and eliminating more variables, among other things. This is a competition with a generous allotment of submission attempts, and as a result, it's quite possible that even the leaderboard score is an overestimation of the true quality of the model, since the leaderboard can act as more of a validation score instead of a true test score. \n",
    "\n",
    "I welcome any comments and suggestions."
   ]
  }
 ],
 "metadata": {
  "_change_revision": 0,
  "_is_fork": false,
  "kernelspec": {
   "display_name": "ml",
   "language": "python",
   "name": "ml"
  },
  "language_info": {
   "codemirror_mode": {
    "name": "ipython",
    "version": 3
   },
   "file_extension": ".py",
   "mimetype": "text/x-python",
   "name": "python",
   "nbconvert_exporter": "python",
   "pygments_lexer": "ipython3",
   "version": "3.6.3"
  }
 },
 "nbformat": 4,
 "nbformat_minor": 1
}
